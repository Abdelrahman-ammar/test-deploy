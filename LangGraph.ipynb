{
 "cells": [
  {
   "cell_type": "code",
   "execution_count": null,
   "metadata": {},
   "outputs": [
    {
     "data": {
      "text/plain": [
       "{'foo': 2, 'bar': ['a', 'b']}"
      ]
     },
     "execution_count": 1,
     "metadata": {},
     "output_type": "execute_result"
    }
   ],
   "source": [
    "from langgraph.graph import StateGraph, START, END\n",
    "from langgraph.checkpoint.memory import MemorySaver\n",
    "from typing import Annotated\n",
    "from typing_extensions import TypedDict\n",
    "from operator import add\n",
    "from langgraph.store.memory import InMemoryStore\n",
    "# there is a difference between in memory store and Memorysaver\n",
    "\n",
    "class State(TypedDict):\n",
    "    foo: Annotated[int , add] \n",
    "    bar: Annotated[list[str], add] \n",
    "\n",
    "def node_a(state: State):\n",
    "    return {\"foo\": state[\"foo\"], \"bar\": [\"a\"]}\n",
    "\n",
    "def node_b(state: State):\n",
    "    return {\"foo\": 2, \"bar\": [\"b\"]}\n",
    "\n",
    "\n",
    "workflow = StateGraph(State)\n",
    "workflow.add_node(node_a)\n",
    "workflow.add_node(node_b)\n",
    "workflow.add_edge(START, \"node_a\")\n",
    "workflow.add_edge(\"node_a\", \"node_b\")\n",
    "workflow.add_edge(\"node_b\", END)\n",
    "\n",
    "checkpointer = MemorySaver()\n",
    "graph = workflow.compile(checkpointer=checkpointer)\n",
    "\n",
    "config = {\"configurable\": {\"thread_id\": \"1\"}}\n",
    "graph.invoke({\"bar\":[]}, config)"
   ]
  },
  {
   "cell_type": "code",
   "execution_count": 103,
   "metadata": {},
   "outputs": [],
   "source": [
    "from langchain_ollama import ChatOllama\n",
    "\n",
    "llm_json_mode = ChatOllama(model=\"llama3.2\" , format=\"json\")"
   ]
  },
  {
   "cell_type": "code",
   "execution_count": 51,
   "metadata": {},
   "outputs": [
    {
     "data": {
      "text/plain": [
       "AIMessage(content='{\\n \"result\": 4\\n}', additional_kwargs={}, response_metadata={'model': 'llama3.2', 'created_at': '2025-02-12T12:24:08.1138351Z', 'done': True, 'done_reason': 'stop', 'total_duration': 335995200, 'load_duration': 19599900, 'prompt_eval_count': 31, 'prompt_eval_duration': 2000000, 'eval_count': 9, 'eval_duration': 313000000, 'message': Message(role='assistant', content='', images=None, tool_calls=None)}, id='run-3070ce16-53fb-4353-8e2a-d1eed9d8ea4e-0', usage_metadata={'input_tokens': 31, 'output_tokens': 9, 'total_tokens': 40})"
      ]
     },
     "execution_count": 51,
     "metadata": {},
     "output_type": "execute_result"
    }
   ],
   "source": [
    "llm_json_mode.invoke(\"what is 2+2\")"
   ]
  },
  {
   "cell_type": "code",
   "execution_count": 3,
   "metadata": {},
   "outputs": [],
   "source": [
    "from langchain_core.messages import HumanMessage, SystemMessage\n",
    "import json\n",
    "from typing import TypedDict , Annotated , Any , Literal, List\n",
    "from langgraph.graph.message import add_messages\n",
    "from langchain.prompts import ChatPromptTemplate , SystemMessagePromptTemplate ,HumanMessagePromptTemplate\n",
    "from langchain_community.tools.tavily_search import TavilySearchResults\n",
    "from langchain.schema import Document\n",
    "from dotenv import load_dotenv\n",
    "from langgraph.prebuilt import ToolNode, tools_condition\n",
    "from langgraph.types import Command\n",
    "import requests\n",
    "from langchain_core.messages import HumanMessage, SystemMessage\n",
    "from langgraph.checkpoint.memory import MemorySaver\n",
    "from langgraph.graph import StateGraph, START, END\n",
    "\n",
    "\n",
    "load_dotenv()\n",
    "\n",
    "\n",
    "class GraphState(TypedDict):\n",
    "    question : str\n",
    "    answer : str\n",
    "    documents: List[str]\n",
    "    messages : Annotated[list , add_messages]\n",
    "    datasource : Literal[\"vectorstore\" , \"websearch\" ,\"chatbot\"]\n",
    "    return_answer : Literal[\"yes\" , \"no\"]\n",
    "    urls : List[str]\n",
    "\n",
    "def route_question(state : GraphState):\n",
    "    print(\"----Route Question ----\")\n",
    "    route_instructions =  \"\"\"You are expert at routing the user question to apporpriate datasources , the datasources is either websearch or vectorstore.\n",
    "    \n",
    "    The vector store contains documents related to the turtles , taxa classificationa and other information about them.\n",
    "   \n",
    "    Use the vector store for questions about turtles . For all else, use websearch.\n",
    "\n",
    "    Return only a JSON with single key , datasource , that is 'websearch' or 'vectorstore' depending on the question .\n",
    "    \"\"\"\n",
    "\n",
    "    answer = llm_json_mode.invoke(\n",
    "        [SystemMessage(content=route_instructions)]+\n",
    "        [HumanMessage(content=state[\"question\"])]        \n",
    "    )\n",
    "\n",
    "    answer = json.loads(answer.content)\n",
    "    if answer[\"datasource\"] == \"websearch\":\n",
    "        print(\"-----Routing to websearch------\")\n",
    "        return {\"datasource\" : \"websearch\"}\n",
    "        # return Command(\n",
    "            # goto = \"search_online\",\n",
    "        # )\n",
    "    else:\n",
    "        print(\"------Routing to Vectorstore ------\")\n",
    "        return {\"datasource\" : \"vectorstore\"}\n",
    "        # return Command(\n",
    "            # goto = \"Turtles_Researcher\"\n",
    "        # )\n",
    "    "
   ]
  },
  {
   "cell_type": "code",
   "execution_count": 20,
   "metadata": {},
   "outputs": [],
   "source": [
    "graph = StateGraph(GraphState)\n",
    "graph.add_node(\"router\",route_question)\n",
    "graph.add_edge(START,\"router\")\n",
    "graph.add_edge(\"router\" ,END)\n",
    "graphh = graph.compile()"
   ]
  },
  {
   "cell_type": "code",
   "execution_count": 38,
   "metadata": {},
   "outputs": [
    {
     "data": {
      "image/png": "[encoded data removed]",
      "text/plain": [
       "<IPython.core.display.Image object>"
      ]
     },
     "metadata": {},
     "output_type": "display_data"
    }
   ],
   "source": [
    "from IPython.display import Image, display\n",
    "\n",
    "try:\n",
    "    display(Image(graphh.get_graph().draw_mermaid_png()))\n",
    "except Exception:\n",
    "    # This requires some extra dependencies and is optional\n",
    "    \n",
    "    pass"
   ]
  },
  {
   "cell_type": "code",
   "execution_count": 37,
   "metadata": {},
   "outputs": [],
   "source": [
    "def node_a(state: GraphState):\n",
    "    print(\"in node a\")\n",
    "    return {\"messages\": [\"in node a\"]}\n",
    "\n",
    "def node_b(state: GraphState):\n",
    "    print(\"in node b\")\n",
    "    return {\"messages\": [\"in node b\"]}\n",
    "\n"
   ]
  },
  {
   "cell_type": "code",
   "execution_count": 39,
   "metadata": {},
   "outputs": [],
   "source": [
    "from langgraph.checkpoint.memory import MemorySaver\n",
    "from langgraph.graph import StateGraph, START, END\n",
    "\n",
    "memory = MemorySaver()\n",
    "\n",
    "graph = StateGraph(GraphState)\n",
    "graph.add_node(\"websearch\",node_a)\n",
    "graph.add_node(\"vectorstore\",node_b)\n",
    "# graph.add_conditional_edges(\"router\",route_question , {\"websearch\" : \"node_a\" , \"vectorstore\" : \"node_b\"})\n",
    "graph.set_conditional_entry_point(lambda state: route_question(state)[\"datasource\"] , {\"websearch\" : \"websearch\" , \"vectorstore\" : \"vectorstore\"})\n",
    "# graph.add_edge(\"router\" ,END)\n",
    "graphh = graph.compile(checkpointer=memory)"
   ]
  },
  {
   "cell_type": "code",
   "execution_count": 41,
   "metadata": {},
   "outputs": [
    {
     "name": "stdout",
     "output_type": "stream",
     "text": [
      "----Route Question ----\n",
      "-----Routing to websearch------\n",
      "in node a\n"
     ]
    },
    {
     "data": {
      "text/plain": [
       "{'question': 'what is the 3*3??',\n",
       " 'messages': [HumanMessage(content='in node b', additional_kwargs={}, response_metadata={}, id='beffa076-1215-4eb2-ad0a-7674141373d1'),\n",
       "  HumanMessage(content='in node a', additional_kwargs={}, response_metadata={}, id='e9cd116b-355a-48ff-aede-57250ba4ac31')],\n",
       " 'datasource': ''}"
      ]
     },
     "execution_count": 41,
     "metadata": {},
     "output_type": "execute_result"
    }
   ],
   "source": [
    "initial_state = GraphState(question=\"what is the 3*3??\" , messages=[] , datasource=\"\")\n",
    "graphh.invoke(initial_state ,config= {\"configurable\" : {\"thread_id\":\"abdo\"}})"
   ]
  },
  {
   "cell_type": "markdown",
   "metadata": {},
   "source": [
    "## Retreiver"
   ]
  },
  {
   "cell_type": "code",
   "execution_count": 8,
   "metadata": {},
   "outputs": [
    {
     "ename": "NameError",
     "evalue": "name 'ChatOllama' is not defined",
     "output_type": "error",
     "traceback": [
      "\u001b[1;31m---------------------------------------------------------------------------\u001b[0m",
      "\u001b[1;31mNameError\u001b[0m                                 Traceback (most recent call last)",
      "Cell \u001b[1;32mIn[8], line 8\u001b[0m\n\u001b[0;32m      4\u001b[0m \u001b[38;5;28;01mfrom\u001b[39;00m \u001b[38;5;21;01mlangchain_core\u001b[39;00m\u001b[38;5;21;01m.\u001b[39;00m\u001b[38;5;21;01mrunnables\u001b[39;00m \u001b[38;5;28;01mimport\u001b[39;00m RunnablePassthrough\n\u001b[0;32m      6\u001b[0m embeddings \u001b[38;5;241m=\u001b[39m GoogleGenerativeAIEmbeddings(model\u001b[38;5;241m=\u001b[39m\u001b[38;5;124m\"\u001b[39m\u001b[38;5;124mmodels/embedding-001\u001b[39m\u001b[38;5;124m\"\u001b[39m)\n\u001b[1;32m----> 8\u001b[0m llm \u001b[38;5;241m=\u001b[39m ChatOllama(model\u001b[38;5;241m=\u001b[39m\u001b[38;5;124m\"\u001b[39m\u001b[38;5;124mllama3.2\u001b[39m\u001b[38;5;124m\"\u001b[39m)\n\u001b[0;32m     10\u001b[0m vectorstore \u001b[38;5;241m=\u001b[39m FAISS\u001b[38;5;241m.\u001b[39mload_local(\u001b[38;5;124m\"\u001b[39m\u001b[38;5;124m../FinalEmbeddings/VectorStoreGemini\u001b[39m\u001b[38;5;124m\"\u001b[39m , embeddings , allow_dangerous_deserialization\u001b[38;5;241m=\u001b[39m\u001b[38;5;28;01mTrue\u001b[39;00m)\n\u001b[0;32m     12\u001b[0m retriever \u001b[38;5;241m=\u001b[39m vectorstore\u001b[38;5;241m.\u001b[39mas_retriever(search_kwargs\u001b[38;5;241m=\u001b[39m{\u001b[38;5;124m\"\u001b[39m\u001b[38;5;124mk\u001b[39m\u001b[38;5;124m\"\u001b[39m:\u001b[38;5;241m5\u001b[39m})\n",
      "\u001b[1;31mNameError\u001b[0m: name 'ChatOllama' is not defined"
     ]
    }
   ],
   "source": [
    "from langchain_google_genai import GoogleGenerativeAIEmbeddings\n",
    "from langchain_community.vectorstores import FAISS\n",
    "from langchain_core.prompts import PromptTemplate\n",
    "from langchain_core.runnables import RunnablePassthrough\n",
    "\n",
    "embeddings = GoogleGenerativeAIEmbeddings(model=\"models/embedding-001\")\n",
    "\n",
    "llm = ChatOllama(model=\"llama3.2\")\n",
    "\n",
    "vectorstore = FAISS.load_local(\"../FinalEmbeddings/VectorStoreGemini\" , embeddings , allow_dangerous_deserialization=True)\n",
    "\n",
    "retriever = vectorstore.as_retriever(search_kwargs={\"k\":5})\n",
    "\n",
    "rag_prompt = PromptTemplate(\n",
    "    template=\"\"\"You are a Turtles Researcher assistant, you always answer from the context, you alwayas answer question related to turtles .\n",
    "\n",
    "        CONTEXT: {context}\n",
    "        QUESTION: {question}\n",
    "        \"\"\",\n",
    "    input_variables=[\"context\", \"question\"]  # ✅ Fix: Move inside PromptTemplate\n",
    ")\n",
    "\n",
    "\n",
    "# rag_prompt_chain = rag_prompt | llm \n",
    "\n",
    "question = \"what is the taxa classification of the green turtle?\"\n",
    "\n",
    "# docs = retriever.invoke(question)\n",
    "\n",
    "# rag_prompt_chain.invoke({\"question\" : question , \"context\" : docs})\n",
    "\n",
    "\n",
    "rag_chain = (\n",
    "    {\"context\" : retriever , \"question\" : RunnablePassthrough()}\n",
    "    | rag_prompt\n",
    "    | llm\n",
    ")\n",
    "\n",
    "# rag_chain.invoke(question).content"
   ]
  },
  {
   "cell_type": "code",
   "execution_count": 19,
   "metadata": {},
   "outputs": [],
   "source": [
    "from langchain_ollama import ChatOllama\n",
    "\n",
    "embeddings = GoogleGenerativeAIEmbeddings(model=\"models/embedding-001\")\n",
    "\n",
    "llm = ChatOllama(model=\"llama3.2\")\n",
    "\n",
    "vectorstore = FAISS.load_local(\"../FinalEmbeddings/VectorStoreGemini\" , embeddings , allow_dangerous_deserialization=True)\n",
    "\n",
    "retriever = vectorstore.as_retriever(search_kwargs={\"k\":5})\n"
   ]
  },
  {
   "cell_type": "code",
   "execution_count": 4,
   "metadata": {},
   "outputs": [],
   "source": [
    "def get_docs(state : GraphState):\n",
    "\n",
    "    print(\"----VectorStore Answer----\")\n",
    "    rag_prompt = PromptTemplate(\n",
    "    # template=\"\"\"You are a Turtles Researcher assistant, you always answer from the context, you always answer question related to turtles , .\n",
    "\n",
    "    #     CONTEXT: {context}\n",
    "    #     QUESTION: {question}\n",
    "    #     \"\"\",\n",
    "    #     input_variables=[\"context\", \"question\"]  \n",
    "    # )\n",
    "    template=\"\"\"You are a knowledgeable and engaging Turtle Researche assistant, Always answer based only on the provided context, ensuring your response is directly relevant to the question.\n",
    "\n",
    "        Do not introduce unnecessary details or make it apparent that you are retreiving from context -your responses should be precise and natural.\n",
    "\n",
    "        CONTEXT: {context}\n",
    "        QUESTION: {question}\n",
    "        \"\"\",\n",
    "        input_variables=[\"context\", \"question\"]  \n",
    "    )\n",
    "\n",
    "    # docs = retriever.invoke(state[\"question\"])\n",
    "\n",
    "    # print(docs)\n",
    "\n",
    "    rag_chain = (\n",
    "    {\"context\" : retriever , \"question\" : RunnablePassthrough()}\n",
    "    | rag_prompt\n",
    "    | llm\n",
    "    )\n",
    "\n",
    "    answer = rag_chain.invoke(state[\"question\"])\n",
    "\n",
    "    \n",
    "\n",
    "    return {\"answer\" : answer.content}\n",
    "    # return Command(\n",
    "        # update={\"answer\" : answer.content},\n",
    "        # goto = \"grader\"\n",
    "    # )\n"
   ]
  },
  {
   "cell_type": "markdown",
   "metadata": {},
   "source": [
    "### Grader"
   ]
  },
  {
   "cell_type": "code",
   "execution_count": 5,
   "metadata": {},
   "outputs": [],
   "source": [
    "def grade_answer(state : GraphState):\n",
    "    # grading_instructions = SystemMessagePromptTemplate.from_template(\"\"\" Yor are a turtles researcher grader assessing answer of a question,\n",
    "\n",
    "    # If the answer contains keyword(s) or semantic meaning related to the question, grade it as relevant.\n",
    "    \n",
    "    # Return JSON with single key, 'binary_score' that is 'yes' or 'no' score to indicate wehter the document cotains atleast some information that is relevant to the question.\n",
    "    # \"\"\")\n",
    "    grading_instructions = SystemMessagePromptTemplate.from_template(\"\"\" Yor are an answer evaluation agent, Your task is to determine wether the given answer is relevant to the provided question.\n",
    "\n",
    "    If the answer contains keyword(s) or semantic meaning related to the question, grade it as relevant.\n",
    "    \n",
    "    Return JSON with single key, 'binary_score' that is 'yes' or 'no' score to indicate wehter the document cotains atleast some information that is relevant to the question.\n",
    "    \"\"\")\n",
    "\n",
    "    grading_prompt = HumanMessagePromptTemplate.from_template(\"\"\"\n",
    "    Please grade the following:\n",
    "\n",
    "    QUESTION: {question}\n",
    "    ANSWER: {answer}\n",
    "    \"\"\")\n",
    "    chat_prompt = ChatPromptTemplate.from_messages([\n",
    "        grading_instructions,\n",
    "        grading_prompt],\n",
    "        # input_variables=[\"question\", \"answer\"]\n",
    "          )\n",
    "    \n",
    "    \n",
    "\n",
    "    grader_chain = chat_prompt | llm_json_mode \n",
    "\n",
    "    grade = grader_chain.invoke({\"question\" : state[\"question\"] , \"answer\" : state[\"answer\"]})\n",
    "    grade = json.loads(grade.content)\n",
    "    \n",
    "    print(f\"Question is : {state[\"question\"]}\")\n",
    "    print(f\"Answer is : {state[\"answer\"]}\")\n",
    "    print(f\"Grade is : {grade[\"binary_score\"]}\")\n",
    "    if grade[\"binary_score\"].lower() == \"yes\":\n",
    "        return {\"return_answer\" : \"yes\" , \"messages\" : state[\"answer\"]}\n",
    "    else:\n",
    "        return {\"return_answer\" : \"no\"}\n"
   ]
  },
  {
   "cell_type": "code",
   "execution_count": 57,
   "metadata": {},
   "outputs": [
    {
     "name": "stdout",
     "output_type": "stream",
     "text": [
      "Question is : what is the taxa classification of the Kemp's Ridley sea turtle?\n",
      "Answer is : The taxonomic classification for the Kemp's Ridley sea turtle (Lepidochelys kempii) is as follows:\n",
      "\n",
      "- Kingdom: Animalia\n",
      "- Phylum: Chordata\n",
      "- Class: Reptilia\n",
      "- Order: Testudines\n",
      "- Family: Cheloniidae\n",
      "- Genus: Lepidochelys\n",
      "- Species: L. kempii\n",
      "\n",
      "This classification reflects the scientific understanding of the Kemp's Ridley sea turtle's evolutionary relationships and its place within the class Reptilia\n",
      "Grade is : yes\n"
     ]
    },
    {
     "data": {
      "text/plain": [
       "{'return_answer': 'yes'}"
      ]
     },
     "execution_count": 57,
     "metadata": {},
     "output_type": "execute_result"
    }
   ],
   "source": [
    "test_grade_state = GraphState(question=\"what is the taxa classification of the Kemp's Ridley sea turtle?\",\n",
    "                              answer=\"The taxonomic classification for the Kemp's Ridley sea turtle (Lepidochelys kempii) is as follows:\\n\\n- Kingdom: Animalia\\n- Phylum: Chordata\\n- Class: Reptilia\\n- Order: Testudines\\n- Family: Cheloniidae\\n- Genus: Lepidochelys\\n- Species: L. kempii\\n\\nThis classification reflects the scientific understanding of the Kemp's Ridley sea turtle's evolutionary relationships and its place within the class Reptilia\")\n",
    "\n",
    "\n",
    "grade_answer(test_grade_state)\n"
   ]
  },
  {
   "cell_type": "markdown",
   "metadata": {},
   "source": [
    "### WebSearch"
   ]
  },
  {
   "cell_type": "code",
   "execution_count": 84,
   "metadata": {},
   "outputs": [
    {
     "data": {
      "text/plain": [
       "[{'url': 'https://seamap.env.duke.edu/species/173833/html',\n",
       "  'content': 'Green sea turtle - Chelonia mydas Chelonia mydas (green sea turtle) is the largest of all the hard shelled marine turtles, averaging 136 kg (up to 180 kg) in weight and measuring about 1 m in carapace (upper shell) length. Subspecies Chelonia mydas agassizii is often called the black turtle because of its very dark colored shell. Threats to green sea turtles include: Species fact sheet: Green sea turtle. Synopsis of the biological data on the green turtle Chelonia mydas (Linnaeus 1758). T (Green sea turtles originating ...) T (Green sea turtles originating ...) T (Green sea turtles originating ...) T (Green sea turtles originating ...) T (Green sea turtles originating ...) T (Green sea turtles originating ...)'},\n",
       " {'url': 'https://www.upwell.org/green',\n",
       "  'content': \"Green Sea Turtle — Upwell Green Sea Turtle (Chelonia mydas) The Black Sea Turtle (Chelonia mydas agassizii) is a subspecies of green turtle found in the East Pacific. Adult Green Sea Turtle Did you know that green sea turtles are one of three hard-shelled sea turtle species in US west coast waters that are susceptible to cold-stunning? Upwell's Work With Green Sea Turtles In 2022, Upwell partnered with the Cayman Turtle Centre on Grand Cayman Island to deploy microsatellite tags on 30 captive-reared green sea turtles of different age classes to examine how variables such as age and size may influence the likelihood of encountering optimal foraging habitats and decreasing the risk of early mortality.\"},\n",
       " {'url': 'https://en.wikipedia.org/wiki/Green_sea_turtle',\n",
       "  'content': 'Green sea turtle · Testudo mydas. Linnaeus, 1758 · Testudo macropus. Walbaum, 1782 (nomen illegitimum) · Testudo viridis. Schneider, 1783 · Testudo japonica'},\n",
       " {'url': 'https://www.fws.gov/taxonomic-tree/29424',\n",
       "  'content': 'The table below is a high-level overview of the subsequent branches of this taxon, organized by taxonomic level and further subdivided by items that FWS'},\n",
       " {'url': 'https://explorer.natureserve.org/Taxon/ELEMENT_GLOBAL.2.104885/Chelonia_mydas',\n",
       "  'content': 'Green Sea Turtle - Natureserve Global Rank: G3: Distributed worldwide in warm oceans; exploited heavily for meat and eggs and as a component of other'}]"
      ]
     },
     "execution_count": 84,
     "metadata": {},
     "output_type": "execute_result"
    }
   ],
   "source": [
    "web_search_tool.invoke(\"what is the taxa classification of the green turtle?\")"
   ]
  },
  {
   "cell_type": "code",
   "execution_count": 6,
   "metadata": {},
   "outputs": [],
   "source": [
    "web_search_tool = TavilySearchResults(k=3)"
   ]
  },
  {
   "cell_type": "code",
   "execution_count": null,
   "metadata": {},
   "outputs": [],
   "source": []
  },
  {
   "cell_type": "code",
   "execution_count": 96,
   "metadata": {},
   "outputs": [],
   "source": [
    "import asyncio\n",
    "import threading\n",
    "from crawl4ai import AsyncWebCrawler, BrowserConfig, CrawlerRunConfig, CacheMode\n",
    "\n",
    "\n",
    "def search_web(state: GraphState):\n",
    "\n",
    "    print(\"----Searching Online----\") \n",
    "\n",
    "    rag_prompt = PromptTemplate(\n",
    "    template=\"\"\"You are a Turtles Researcher assistant, you always answer from the context, only return the answer .\n",
    "\n",
    "    CONTEXT: {context}\n",
    "    QUESTION: {question}\n",
    "    \"\"\",\n",
    "    input_variables=[\"context\", \"question\"]  \n",
    "    )\n",
    "\n",
    "    web_docs = web_search_tool.invoke(state[\"question\"])\n",
    "\n",
    "    urls = [dic[\"url\"] for dic in web_docs]\n",
    "    docs = [Document(metadata={\"url\":doc[\"url\"]} , page_content=doc[\"content\"]) for doc in web_docs]\n",
    "\n",
    "    web_chain = rag_prompt | llm\n",
    "\n",
    "    answer = web_chain.invoke({\"context\" : docs , \"question\" : state[\"question\"]})\n",
    "\n",
    "    state[\"urls\"] = urls # settting the url attribute manually\n",
    "    scrape_thread = threading.Thread(target = scrape_urls , args =(urls,))\n",
    "    scrape_thread.start()\n",
    "\n",
    "    return {\"answer\" : answer.content }\n"
   ]
  },
  {
   "cell_type": "code",
   "execution_count": null,
   "metadata": {},
   "outputs": [
    {
     "name": "stdout",
     "output_type": "stream",
     "text": [
      "----Searching Online----\n"
     ]
    },
    {
     "name": "stderr",
     "output_type": "stream",
     "text": [
      "INFO:httpx:HTTP Request: POST http://127.0.0.1:11434/api/chat \"HTTP/1.1 200 OK\"\n"
     ]
    },
    {
     "data": {
      "text/plain": [
       "{'answer': 'Lepidochelys kempii'}"
      ]
     },
     "execution_count": 82,
     "metadata": {},
     "output_type": "execute_result"
    },
    {
     "name": "stderr",
     "output_type": "stream",
     "text": [
      "ERROR:asyncio:Task exception was never retrieved\n",
      "future: <Task finished name='Task-2' coro=<Connection.run() done, defined at c:\\Users\\pc\\anaconda3\\envs\\tb\\Lib\\site-packages\\playwright\\_impl\\_connection.py:272> exception=NotImplementedError()>\n",
      "Traceback (most recent call last):\n",
      "  File \"c:\\Users\\pc\\anaconda3\\envs\\tb\\Lib\\asyncio\\tasks.py\", line 314, in __step_run_and_handle_result\n",
      "    result = coro.send(None)\n",
      "             ^^^^^^^^^^^^^^^\n",
      "  File \"c:\\Users\\pc\\anaconda3\\envs\\tb\\Lib\\site-packages\\playwright\\_impl\\_connection.py\", line 279, in run\n",
      "    await self._transport.connect()\n",
      "  File \"c:\\Users\\pc\\anaconda3\\envs\\tb\\Lib\\site-packages\\playwright\\_impl\\_transport.py\", line 133, in connect\n",
      "    raise exc\n",
      "  File \"c:\\Users\\pc\\anaconda3\\envs\\tb\\Lib\\site-packages\\playwright\\_impl\\_transport.py\", line 120, in connect\n",
      "    self._proc = await asyncio.create_subprocess_exec(\n",
      "                 ^^^^^^^^^^^^^^^^^^^^^^^^^^^^^^^^^^^^^\n",
      "  File \"c:\\Users\\pc\\anaconda3\\envs\\tb\\Lib\\asyncio\\subprocess.py\", line 224, in create_subprocess_exec\n",
      "    transport, protocol = await loop.subprocess_exec(\n",
      "                          ^^^^^^^^^^^^^^^^^^^^^^^^^^^\n",
      "  File \"c:\\Users\\pc\\anaconda3\\envs\\tb\\Lib\\asyncio\\base_events.py\", line 1743, in subprocess_exec\n",
      "    transport = await self._make_subprocess_transport(\n",
      "                ^^^^^^^^^^^^^^^^^^^^^^^^^^^^^^^^^^^^^^\n",
      "  File \"c:\\Users\\pc\\anaconda3\\envs\\tb\\Lib\\asyncio\\base_events.py\", line 524, in _make_subprocess_transport\n",
      "    raise NotImplementedError\n",
      "NotImplementedError\n",
      "Exception in thread Thread-242 (scrape_urls):\n",
      "Traceback (most recent call last):\n",
      "  File \"c:\\Users\\pc\\anaconda3\\envs\\tb\\Lib\\threading.py\", line 1075, in _bootstrap_inner\n",
      "    self.run()\n",
      "  File \"c:\\Users\\pc\\anaconda3\\envs\\tb\\Lib\\site-packages\\ipykernel\\ipkernel.py\", line 766, in run_closure\n",
      "    _threading_Thread_run(self)\n",
      "  File \"c:\\Users\\pc\\anaconda3\\envs\\tb\\Lib\\threading.py\", line 1012, in run\n",
      "    self._target(*self._args, **self._kwargs)\n",
      "  File \"C:\\Users\\pc\\AppData\\Local\\Temp\\ipykernel_20856\\2897058003.py\", line 25, in scrape_urls\n",
      "  File \"c:\\Users\\pc\\anaconda3\\envs\\tb\\Lib\\site-packages\\nest_asyncio.py\", line 98, in run_until_complete\n",
      "    return f.result()\n",
      "           ^^^^^^^^^^\n",
      "  File \"c:\\Users\\pc\\anaconda3\\envs\\tb\\Lib\\asyncio\\futures.py\", line 203, in result\n",
      "    raise self._exception.with_traceback(self._exception_tb)\n",
      "  File \"c:\\Users\\pc\\anaconda3\\envs\\tb\\Lib\\asyncio\\tasks.py\", line 314, in __step_run_and_handle_result\n",
      "    result = coro.send(None)\n",
      "             ^^^^^^^^^^^^^^^\n",
      "  File \"C:\\Users\\pc\\AppData\\Local\\Temp\\ipykernel_20856\\2897058003.py\", line 20, in async_scrape\n",
      "  File \"c:\\Users\\pc\\anaconda3\\envs\\tb\\Lib\\site-packages\\crawl4ai\\async_webcrawler.py\", line 218, in __aenter__\n",
      "    return await self.start()\n",
      "           ^^^^^^^^^^^^^^^^^^\n",
      "  File \"c:\\Users\\pc\\anaconda3\\envs\\tb\\Lib\\site-packages\\crawl4ai\\async_webcrawler.py\", line 202, in start\n",
      "    await self.crawler_strategy.__aenter__()\n",
      "  File \"c:\\Users\\pc\\anaconda3\\envs\\tb\\Lib\\site-packages\\crawl4ai\\async_crawler_strategy.py\", line 750, in __aenter__\n",
      "    await self.start()\n",
      "  File \"c:\\Users\\pc\\anaconda3\\envs\\tb\\Lib\\site-packages\\crawl4ai\\async_crawler_strategy.py\", line 760, in start\n",
      "    await self.browser_manager.start()\n",
      "  File \"c:\\Users\\pc\\anaconda3\\envs\\tb\\Lib\\site-packages\\crawl4ai\\async_crawler_strategy.py\", line 349, in start\n",
      "    self.playwright = await async_playwright().start()\n",
      "                      ^^^^^^^^^^^^^^^^^^^^^^^^^^^^^^^^\n",
      "  File \"c:\\Users\\pc\\anaconda3\\envs\\tb\\Lib\\site-packages\\playwright\\async_api\\_context_manager.py\", line 51, in start\n",
      "    return await self.__aenter__()\n",
      "           ^^^^^^^^^^^^^^^^^^^^^^^\n",
      "  File \"c:\\Users\\pc\\anaconda3\\envs\\tb\\Lib\\site-packages\\playwright\\async_api\\_context_manager.py\", line 46, in __aenter__\n",
      "    playwright = AsyncPlaywright(next(iter(done)).result())\n",
      "                                 ^^^^^^^^^^^^^^^^^^^^^^^^^\n",
      "  File \"c:\\Users\\pc\\anaconda3\\envs\\tb\\Lib\\asyncio\\futures.py\", line 203, in result\n",
      "    raise self._exception.with_traceback(self._exception_tb)\n",
      "  File \"c:\\Users\\pc\\anaconda3\\envs\\tb\\Lib\\site-packages\\playwright\\_impl\\_transport.py\", line 120, in connect\n",
      "    self._proc = await asyncio.create_subprocess_exec(\n",
      "                 ^^^^^^^^^^^^^^^^^^^^^^^^^^^^^^^^^^^^^\n",
      "  File \"c:\\Users\\pc\\anaconda3\\envs\\tb\\Lib\\asyncio\\subprocess.py\", line 224, in create_subprocess_exec\n",
      "    transport, protocol = await loop.subprocess_exec(\n",
      "                          ^^^^^^^^^^^^^^^^^^^^^^^^^^^\n",
      "  File \"c:\\Users\\pc\\anaconda3\\envs\\tb\\Lib\\asyncio\\base_events.py\", line 1743, in subprocess_exec\n",
      "    transport = await self._make_subprocess_transport(\n",
      "                ^^^^^^^^^^^^^^^^^^^^^^^^^^^^^^^^^^^^^^\n",
      "  File \"c:\\Users\\pc\\anaconda3\\envs\\tb\\Lib\\asyncio\\base_events.py\", line 524, in _make_subprocess_transport\n",
      "    raise NotImplementedError\n",
      "NotImplementedError\n"
     ]
    }
   ],
   "source": [
    "test_web = GraphState(question=\"what is the complete taxa classification of the kemp ridley sea turtle?\")\n",
    "\n",
    "search_web(test_web)"
   ]
  },
  {
   "cell_type": "code",
   "execution_count": 74,
   "metadata": {},
   "outputs": [
    {
     "name": "stdout",
     "output_type": "stream",
     "text": [
      "https://en.wikipedia.org/wiki/Green_sea_turtle\n",
      "https://animaldiversity.org/accounts/Chelonia_mydas/classification/\n",
      "https://www.marinespecies.org/aphia.php?p=taxdetails&id=137206\n",
      "https://www.fisheries.noaa.gov/species/green-turtle\n",
      "https://www.upwell.org/green\n"
     ]
    }
   ],
   "source": [
    "from googlesearch import search\n",
    "\n",
    "query = \"What is the taxa classification of the green turtle\"\n",
    "num_results = 5  # Number of search results\n",
    "\n",
    "for result in search(query, num_results=num_results):\n",
    "    print(result)\n"
   ]
  },
  {
   "cell_type": "markdown",
   "metadata": {},
   "source": [
    "### Scraping behind the scenes"
   ]
  },
  {
   "cell_type": "code",
   "execution_count": 78,
   "metadata": {},
   "outputs": [],
   "source": [
    "import asyncio\n",
    "import asyncio\n",
    "import threading\n",
    "from crawl4ai import AsyncWebCrawler, BrowserConfig, CrawlerRunConfig, CacheMode\n",
    "\n",
    "\n",
    "def scrape_urls(urls : list):\n",
    "    loop =  asyncio.new_event_loop()\n",
    "    asyncio.set_event_loop(loop)\n",
    "\n",
    "\n",
    "    async def async_scrape(urls : list):\n",
    "        broswer_conf = BrowserConfig(headless=True)\n",
    "        run_conf = CrawlerRunConfig(cache_mode=CacheMode.BYPASS)\n",
    "\n",
    "        async with AsyncWebCrawler(config=broswer_conf) as crawler:\n",
    "            for i ,url in enumerate(urls,1):\n",
    "                result = await crawler.arun(url=url , config= run_conf)\n",
    "                print(f\"---Url {i}------\")\n",
    "                print(result.markdown)\n",
    "    loop.run_until_complete(async_scrape(urls))\n",
    "\n",
    "\n"
   ]
  },
  {
   "cell_type": "code",
   "execution_count": null,
   "metadata": {},
   "outputs": [],
   "source": [
    "# There is no edge for the chatbot , the one responsible for returnning the answer\n",
    "\n",
    "graph = StateGraph(GraphState)\n",
    "\n",
    "graph.add_node(\"Turtles_Researcher\" , get_docs )\n",
    "graph.add_node(\"grader\" , grade_answer )\n",
    "graph.add_node(\"search_online\", search_web)\n",
    "\n",
    "# graph.add_edge(\"Turtles_Researcher\" , \"grader\")\n",
    "graph.add_conditional_edges(\n",
    "    \"grader\",\n",
    "    lambda state :state[\"return_answer\"],\n",
    "    {\"yes\":END , \"no\" : \"search_online\"},\n",
    ")\n",
    "\n",
    "graph.add_edge(START , \"Turtles_Researcher\")\n",
    "graph.add_edge(\"grader\" , END)\n",
    "\n",
    "agent = graph.compile()"
   ]
  },
  {
   "cell_type": "code",
   "execution_count": 108,
   "metadata": {},
   "outputs": [
    {
     "name": "stdout",
     "output_type": "stream",
     "text": [
      "----VectorStore Answer----\n"
     ]
    },
    {
     "name": "stderr",
     "output_type": "stream",
     "text": [
      "INFO:httpx:HTTP Request: POST http://127.0.0.1:11434/api/chat \"HTTP/1.1 200 OK\"\n",
      "INFO:httpx:HTTP Request: POST http://127.0.0.1:11434/api/chat \"HTTP/1.1 200 OK\"\n"
     ]
    },
    {
     "name": "stdout",
     "output_type": "stream",
     "text": [
      "Question is : what is the taxa classification of the green turtle?\n",
      "Answer is : The Green Turtle's taxa classification includes:\n",
      "\n",
      "Kingdom: ANIMALIA\n",
      "Phylum: CHORDATA\n",
      "Class: REPTILIA\n",
      "Order: TESTUDINES\n",
      "Family: CHELONIIDAE\n",
      "Genus: Chelonia\n",
      "Species: mydas\n",
      "Grade is : yes\n"
     ]
    }
   ],
   "source": [
    "initial_state = GraphState(question=\"what is the taxa classification of the green turtle?\")\n",
    "\n",
    "response = agent.invoke(initial_state)"
   ]
  },
  {
   "cell_type": "code",
   "execution_count": 109,
   "metadata": {},
   "outputs": [
    {
     "name": "stdout",
     "output_type": "stream",
     "text": [
      "----VectorStore Answer----\n"
     ]
    },
    {
     "name": "stderr",
     "output_type": "stream",
     "text": [
      "INFO:httpx:HTTP Request: POST http://127.0.0.1:11434/api/chat \"HTTP/1.1 200 OK\"\n",
      "INFO:httpx:HTTP Request: POST http://127.0.0.1:11434/api/chat \"HTTP/1.1 200 OK\"\n"
     ]
    },
    {
     "name": "stdout",
     "output_type": "stream",
     "text": [
      "Question is : what is the hearing range of the green turtle?\n",
      "Answer is : The hearing range of the Green Turtle is [\"500 Hz\", \"100 Hz\"].\n",
      "Grade is : no\n",
      "----Searching Online----\n"
     ]
    },
    {
     "ename": "NameError",
     "evalue": "name 'web_search_tool' is not defined",
     "output_type": "error",
     "traceback": [
      "\u001b[1;31m---------------------------------------------------------------------------\u001b[0m",
      "\u001b[1;31mNameError\u001b[0m                                 Traceback (most recent call last)",
      "Cell \u001b[1;32mIn[109], line 2\u001b[0m\n\u001b[0;32m      1\u001b[0m test1_state \u001b[38;5;241m=\u001b[39m GraphState(question\u001b[38;5;241m=\u001b[39m\u001b[38;5;124m\"\u001b[39m\u001b[38;5;124mwhat is the hearing range of the green turtle?\u001b[39m\u001b[38;5;124m\"\u001b[39m)\n\u001b[1;32m----> 2\u001b[0m response \u001b[38;5;241m=\u001b[39m agent\u001b[38;5;241m.\u001b[39minvoke(test1_state)\n",
      "File \u001b[1;32mc:\\Users\\pc\\anaconda3\\envs\\tb\\Lib\\site-packages\\langgraph\\pregel\\__init__.py:1961\u001b[0m, in \u001b[0;36mPregel.invoke\u001b[1;34m(self, input, config, stream_mode, output_keys, interrupt_before, interrupt_after, debug, **kwargs)\u001b[0m\n\u001b[0;32m   1959\u001b[0m \u001b[38;5;28;01melse\u001b[39;00m:\n\u001b[0;32m   1960\u001b[0m     chunks \u001b[38;5;241m=\u001b[39m []\n\u001b[1;32m-> 1961\u001b[0m \u001b[38;5;28;01mfor\u001b[39;00m chunk \u001b[38;5;129;01min\u001b[39;00m \u001b[38;5;28mself\u001b[39m\u001b[38;5;241m.\u001b[39mstream(\n\u001b[0;32m   1962\u001b[0m     \u001b[38;5;28minput\u001b[39m,\n\u001b[0;32m   1963\u001b[0m     config,\n\u001b[0;32m   1964\u001b[0m     stream_mode\u001b[38;5;241m=\u001b[39mstream_mode,\n\u001b[0;32m   1965\u001b[0m     output_keys\u001b[38;5;241m=\u001b[39moutput_keys,\n\u001b[0;32m   1966\u001b[0m     interrupt_before\u001b[38;5;241m=\u001b[39minterrupt_before,\n\u001b[0;32m   1967\u001b[0m     interrupt_after\u001b[38;5;241m=\u001b[39minterrupt_after,\n\u001b[0;32m   1968\u001b[0m     debug\u001b[38;5;241m=\u001b[39mdebug,\n\u001b[0;32m   1969\u001b[0m     \u001b[38;5;241m*\u001b[39m\u001b[38;5;241m*\u001b[39mkwargs,\n\u001b[0;32m   1970\u001b[0m ):\n\u001b[0;32m   1971\u001b[0m     \u001b[38;5;28;01mif\u001b[39;00m stream_mode \u001b[38;5;241m==\u001b[39m \u001b[38;5;124m\"\u001b[39m\u001b[38;5;124mvalues\u001b[39m\u001b[38;5;124m\"\u001b[39m:\n\u001b[0;32m   1972\u001b[0m         latest \u001b[38;5;241m=\u001b[39m chunk\n",
      "File \u001b[1;32mc:\\Users\\pc\\anaconda3\\envs\\tb\\Lib\\site-packages\\langgraph\\pregel\\__init__.py:1670\u001b[0m, in \u001b[0;36mPregel.stream\u001b[1;34m(self, input, config, stream_mode, output_keys, interrupt_before, interrupt_after, debug, subgraphs)\u001b[0m\n\u001b[0;32m   1664\u001b[0m     \u001b[38;5;66;03m# Similarly to Bulk Synchronous Parallel / Pregel model\u001b[39;00m\n\u001b[0;32m   1665\u001b[0m     \u001b[38;5;66;03m# computation proceeds in steps, while there are channel updates.\u001b[39;00m\n\u001b[0;32m   1666\u001b[0m     \u001b[38;5;66;03m# Channel updates from step N are only visible in step N+1\u001b[39;00m\n\u001b[0;32m   1667\u001b[0m     \u001b[38;5;66;03m# channels are guaranteed to be immutable for the duration of the step,\u001b[39;00m\n\u001b[0;32m   1668\u001b[0m     \u001b[38;5;66;03m# with channel updates applied only at the transition between steps.\u001b[39;00m\n\u001b[0;32m   1669\u001b[0m     \u001b[38;5;28;01mwhile\u001b[39;00m loop\u001b[38;5;241m.\u001b[39mtick(input_keys\u001b[38;5;241m=\u001b[39m\u001b[38;5;28mself\u001b[39m\u001b[38;5;241m.\u001b[39minput_channels):\n\u001b[1;32m-> 1670\u001b[0m         \u001b[38;5;28;01mfor\u001b[39;00m _ \u001b[38;5;129;01min\u001b[39;00m runner\u001b[38;5;241m.\u001b[39mtick(\n\u001b[0;32m   1671\u001b[0m             loop\u001b[38;5;241m.\u001b[39mtasks\u001b[38;5;241m.\u001b[39mvalues(),\n\u001b[0;32m   1672\u001b[0m             timeout\u001b[38;5;241m=\u001b[39m\u001b[38;5;28mself\u001b[39m\u001b[38;5;241m.\u001b[39mstep_timeout,\n\u001b[0;32m   1673\u001b[0m             retry_policy\u001b[38;5;241m=\u001b[39m\u001b[38;5;28mself\u001b[39m\u001b[38;5;241m.\u001b[39mretry_policy,\n\u001b[0;32m   1674\u001b[0m             get_waiter\u001b[38;5;241m=\u001b[39mget_waiter,\n\u001b[0;32m   1675\u001b[0m         ):\n\u001b[0;32m   1676\u001b[0m             \u001b[38;5;66;03m# emit output\u001b[39;00m\n\u001b[0;32m   1677\u001b[0m             \u001b[38;5;28;01myield from\u001b[39;00m output()\n\u001b[0;32m   1678\u001b[0m \u001b[38;5;66;03m# emit output\u001b[39;00m\n",
      "File \u001b[1;32mc:\\Users\\pc\\anaconda3\\envs\\tb\\Lib\\site-packages\\langgraph\\pregel\\runner.py:230\u001b[0m, in \u001b[0;36mPregelRunner.tick\u001b[1;34m(self, tasks, reraise, timeout, retry_policy, get_waiter)\u001b[0m\n\u001b[0;32m    228\u001b[0m t \u001b[38;5;241m=\u001b[39m tasks[\u001b[38;5;241m0\u001b[39m]\n\u001b[0;32m    229\u001b[0m \u001b[38;5;28;01mtry\u001b[39;00m:\n\u001b[1;32m--> 230\u001b[0m     run_with_retry(\n\u001b[0;32m    231\u001b[0m         t,\n\u001b[0;32m    232\u001b[0m         retry_policy,\n\u001b[0;32m    233\u001b[0m         configurable\u001b[38;5;241m=\u001b[39m{\n\u001b[0;32m    234\u001b[0m             CONFIG_KEY_SEND: partial(writer, t),\n\u001b[0;32m    235\u001b[0m             CONFIG_KEY_CALL: partial(call, t),\n\u001b[0;32m    236\u001b[0m         },\n\u001b[0;32m    237\u001b[0m     )\n\u001b[0;32m    238\u001b[0m     \u001b[38;5;28mself\u001b[39m\u001b[38;5;241m.\u001b[39mcommit(t, \u001b[38;5;28;01mNone\u001b[39;00m)\n\u001b[0;32m    239\u001b[0m \u001b[38;5;28;01mexcept\u001b[39;00m \u001b[38;5;167;01mException\u001b[39;00m \u001b[38;5;28;01mas\u001b[39;00m exc:\n",
      "File \u001b[1;32mc:\\Users\\pc\\anaconda3\\envs\\tb\\Lib\\site-packages\\langgraph\\pregel\\retry.py:40\u001b[0m, in \u001b[0;36mrun_with_retry\u001b[1;34m(task, retry_policy, configurable)\u001b[0m\n\u001b[0;32m     38\u001b[0m     task\u001b[38;5;241m.\u001b[39mwrites\u001b[38;5;241m.\u001b[39mclear()\n\u001b[0;32m     39\u001b[0m     \u001b[38;5;66;03m# run the task\u001b[39;00m\n\u001b[1;32m---> 40\u001b[0m     \u001b[38;5;28;01mreturn\u001b[39;00m task\u001b[38;5;241m.\u001b[39mproc\u001b[38;5;241m.\u001b[39minvoke(task\u001b[38;5;241m.\u001b[39minput, config)\n\u001b[0;32m     41\u001b[0m \u001b[38;5;28;01mexcept\u001b[39;00m ParentCommand \u001b[38;5;28;01mas\u001b[39;00m exc:\n\u001b[0;32m     42\u001b[0m     ns: \u001b[38;5;28mstr\u001b[39m \u001b[38;5;241m=\u001b[39m config[CONF][CONFIG_KEY_CHECKPOINT_NS]\n",
      "File \u001b[1;32mc:\\Users\\pc\\anaconda3\\envs\\tb\\Lib\\site-packages\\langgraph\\utils\\runnable.py:462\u001b[0m, in \u001b[0;36mRunnableSeq.invoke\u001b[1;34m(self, input, config, **kwargs)\u001b[0m\n\u001b[0;32m    458\u001b[0m config \u001b[38;5;241m=\u001b[39m patch_config(\n\u001b[0;32m    459\u001b[0m     config, callbacks\u001b[38;5;241m=\u001b[39mrun_manager\u001b[38;5;241m.\u001b[39mget_child(\u001b[38;5;124mf\u001b[39m\u001b[38;5;124m\"\u001b[39m\u001b[38;5;124mseq:step:\u001b[39m\u001b[38;5;132;01m{\u001b[39;00mi\u001b[38;5;250m \u001b[39m\u001b[38;5;241m+\u001b[39m\u001b[38;5;250m \u001b[39m\u001b[38;5;241m1\u001b[39m\u001b[38;5;132;01m}\u001b[39;00m\u001b[38;5;124m\"\u001b[39m)\n\u001b[0;32m    460\u001b[0m )\n\u001b[0;32m    461\u001b[0m \u001b[38;5;28;01mif\u001b[39;00m i \u001b[38;5;241m==\u001b[39m \u001b[38;5;241m0\u001b[39m:\n\u001b[1;32m--> 462\u001b[0m     \u001b[38;5;28minput\u001b[39m \u001b[38;5;241m=\u001b[39m step\u001b[38;5;241m.\u001b[39minvoke(\u001b[38;5;28minput\u001b[39m, config, \u001b[38;5;241m*\u001b[39m\u001b[38;5;241m*\u001b[39mkwargs)\n\u001b[0;32m    463\u001b[0m \u001b[38;5;28;01melse\u001b[39;00m:\n\u001b[0;32m    464\u001b[0m     \u001b[38;5;28minput\u001b[39m \u001b[38;5;241m=\u001b[39m step\u001b[38;5;241m.\u001b[39minvoke(\u001b[38;5;28minput\u001b[39m, config)\n",
      "File \u001b[1;32mc:\\Users\\pc\\anaconda3\\envs\\tb\\Lib\\site-packages\\langgraph\\utils\\runnable.py:226\u001b[0m, in \u001b[0;36mRunnableCallable.invoke\u001b[1;34m(self, input, config, **kwargs)\u001b[0m\n\u001b[0;32m    224\u001b[0m \u001b[38;5;28;01melse\u001b[39;00m:\n\u001b[0;32m    225\u001b[0m     context\u001b[38;5;241m.\u001b[39mrun(_set_config_context, config)\n\u001b[1;32m--> 226\u001b[0m     ret \u001b[38;5;241m=\u001b[39m context\u001b[38;5;241m.\u001b[39mrun(\u001b[38;5;28mself\u001b[39m\u001b[38;5;241m.\u001b[39mfunc, \u001b[38;5;241m*\u001b[39margs, \u001b[38;5;241m*\u001b[39m\u001b[38;5;241m*\u001b[39mkwargs)\n\u001b[0;32m    227\u001b[0m \u001b[38;5;28;01mif\u001b[39;00m \u001b[38;5;28misinstance\u001b[39m(ret, Runnable) \u001b[38;5;129;01mand\u001b[39;00m \u001b[38;5;28mself\u001b[39m\u001b[38;5;241m.\u001b[39mrecurse:\n\u001b[0;32m    228\u001b[0m     \u001b[38;5;28;01mreturn\u001b[39;00m ret\u001b[38;5;241m.\u001b[39minvoke(\u001b[38;5;28minput\u001b[39m, config)\n",
      "Cell \u001b[1;32mIn[96], line 19\u001b[0m, in \u001b[0;36msearch_web\u001b[1;34m(state)\u001b[0m\n\u001b[0;32m      8\u001b[0m \u001b[38;5;28mprint\u001b[39m(\u001b[38;5;124m\"\u001b[39m\u001b[38;5;124m----Searching Online----\u001b[39m\u001b[38;5;124m\"\u001b[39m) \n\u001b[0;32m     10\u001b[0m rag_prompt \u001b[38;5;241m=\u001b[39m PromptTemplate(\n\u001b[0;32m     11\u001b[0m template\u001b[38;5;241m=\u001b[39m\u001b[38;5;124m\"\"\"\u001b[39m\u001b[38;5;124mYou are a Turtles Researcher assistant, you always answer from the context, only return the answer .\u001b[39m\n\u001b[0;32m     12\u001b[0m \n\u001b[1;32m   (...)\u001b[0m\n\u001b[0;32m     16\u001b[0m input_variables\u001b[38;5;241m=\u001b[39m[\u001b[38;5;124m\"\u001b[39m\u001b[38;5;124mcontext\u001b[39m\u001b[38;5;124m\"\u001b[39m, \u001b[38;5;124m\"\u001b[39m\u001b[38;5;124mquestion\u001b[39m\u001b[38;5;124m\"\u001b[39m]  \n\u001b[0;32m     17\u001b[0m )\n\u001b[1;32m---> 19\u001b[0m web_docs \u001b[38;5;241m=\u001b[39m web_search_tool\u001b[38;5;241m.\u001b[39minvoke(state[\u001b[38;5;124m\"\u001b[39m\u001b[38;5;124mquestion\u001b[39m\u001b[38;5;124m\"\u001b[39m])\n\u001b[0;32m     21\u001b[0m urls \u001b[38;5;241m=\u001b[39m [dic[\u001b[38;5;124m\"\u001b[39m\u001b[38;5;124murl\u001b[39m\u001b[38;5;124m\"\u001b[39m] \u001b[38;5;28;01mfor\u001b[39;00m dic \u001b[38;5;129;01min\u001b[39;00m web_docs]\n\u001b[0;32m     22\u001b[0m docs \u001b[38;5;241m=\u001b[39m [Document(metadata\u001b[38;5;241m=\u001b[39m{\u001b[38;5;124m\"\u001b[39m\u001b[38;5;124murl\u001b[39m\u001b[38;5;124m\"\u001b[39m:doc[\u001b[38;5;124m\"\u001b[39m\u001b[38;5;124murl\u001b[39m\u001b[38;5;124m\"\u001b[39m]} , page_content\u001b[38;5;241m=\u001b[39mdoc[\u001b[38;5;124m\"\u001b[39m\u001b[38;5;124mcontent\u001b[39m\u001b[38;5;124m\"\u001b[39m]) \u001b[38;5;28;01mfor\u001b[39;00m doc \u001b[38;5;129;01min\u001b[39;00m web_docs]\n",
      "\u001b[1;31mNameError\u001b[0m: name 'web_search_tool' is not defined"
     ]
    }
   ],
   "source": [
    "test1_state = GraphState(question=\"what is the hearing range of the green turtle?\")\n",
    "response = agent.invoke(test1_state)"
   ]
  },
  {
   "cell_type": "code",
   "execution_count": 177,
   "metadata": {},
   "outputs": [
    {
     "data": {
      "text/plain": [
       "{'question': 'what is the hearing range of the green turtle?',\n",
       " 'answer': 'The maximum sensitivity for Green Turtles was found at frequencies below 1000 Hz with a range of 50-1600 Hz.',\n",
       " 'messages': [],\n",
       " 'return_answer': 'no'}"
      ]
     },
     "execution_count": 177,
     "metadata": {},
     "output_type": "execute_result"
    }
   ],
   "source": [
    "response"
   ]
  },
  {
   "cell_type": "markdown",
   "metadata": {},
   "source": [
    "### Testing Grade Agent"
   ]
  },
  {
   "cell_type": "code",
   "execution_count": 157,
   "metadata": {},
   "outputs": [
    {
     "name": "stdout",
     "output_type": "stream",
     "text": [
      "Question is : what is the hearing range of the green turtle\n",
      "Answer is : The hearing range of the Green Turtle is between the 100hz and 500hz\n",
      "Grade is : yes\n"
     ]
    },
    {
     "data": {
      "text/plain": [
       "{'return_answer': 'yes'}"
      ]
     },
     "execution_count": 157,
     "metadata": {},
     "output_type": "execute_result"
    }
   ],
   "source": [
    "test_grader = GraphState(question=\"what is  the hearing range of the green turtle\",\n",
    "                      answer='The hearing range of the Green Turtle is [\"500 Hz\", \"100 Hz\"].')\n",
    "grade_answer(test_grader)"
   ]
  },
  {
   "cell_type": "markdown",
   "metadata": {},
   "source": [
    "### Chatbot "
   ]
  },
  {
   "cell_type": "code",
   "execution_count": 7,
   "metadata": {},
   "outputs": [],
   "source": [
    "from langchain_groq import ChatGroq\n",
    "\n",
    "llm = ChatGroq(\n",
    "    model=\"llama-3.3-70b-versatile\",\n",
    "    api_key= \"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\",\n",
    "    max_retries=2,\n",
    ")\n",
    "\n",
    "# llm_with_tools = llm.bind_tools(tools)\n",
    "class State(TypedDict):\n",
    "    messages: Annotated[list, add_messages]\n",
    "\n",
    "def chatbot(state : GraphState):\n",
    "    # return {\"answer\" : state[\"answer\"]}\n",
    "    # print(f\"{llm.invoke(state['answer'])}\")\n",
    "    return {\"messages\" : llm_with_tools.invoke(state['messages'])}\n"
   ]
  },
  {
   "cell_type": "code",
   "execution_count": 187,
   "metadata": {},
   "outputs": [
    {
     "name": "stderr",
     "output_type": "stream",
     "text": [
      "INFO:httpx:HTTP Request: POST https://api.groq.com/openai/v1/chat/completions \"HTTP/1.1 200 OK\"\n"
     ]
    },
    {
     "data": {
      "text/plain": [
       "{'messages': AIMessage(content='', additional_kwargs={'tool_calls': [{'id': 'call_d6f3', 'function': {'arguments': '{\"query\": \"loggerhead turtle\", \"number_of_photos\": 5}', 'name': 'search_photos'}, 'type': 'function'}, {'id': 'call_d60m', 'function': {'arguments': '{\"query\": \"green turtle\", \"number_of_photos\": 2}', 'name': 'search_photos'}, 'type': 'function'}]}, response_metadata={'token_usage': {'completion_tokens': 44, 'prompt_tokens': 296, 'total_tokens': 340, 'completion_time': 0.16, 'prompt_time': 0.038660648, 'queue_time': 0.21683057600000002, 'total_time': 0.198660648}, 'model_name': 'llama-3.3-70b-versatile', 'system_fingerprint': 'fp_3884478861', 'finish_reason': 'tool_calls', 'logprobs': None}, id='run-2bb77ad7-089c-45e1-b44e-bb63c6f2e08c-0', tool_calls=[{'name': 'search_photos', 'args': {'query': 'loggerhead turtle', 'number_of_photos': 5}, 'id': 'call_d6f3', 'type': 'tool_call'}, {'name': 'search_photos', 'args': {'query': 'green turtle', 'number_of_photos': 2}, 'id': 'call_d60m', 'type': 'tool_call'}], usage_metadata={'input_tokens': 296, 'output_tokens': 44, 'total_tokens': 340})}"
      ]
     },
     "execution_count": 187,
     "metadata": {},
     "output_type": "execute_result"
    }
   ],
   "source": [
    "chatbot(GraphState(messages=[\"show me 5 photos for the loggerhead turtle and 2 photos for the green turtle\"]))"
   ]
  },
  {
   "cell_type": "code",
   "execution_count": 188,
   "metadata": {},
   "outputs": [],
   "source": [
    "from langgraph.checkpoint.memory import MemorySaver\n",
    "\n",
    "memory = MemorySaver()\n",
    "\n",
    "graph = StateGraph(GraphState)\n",
    "\n",
    "graph.add_node(\"Turtles_Researcher\" , get_docs )\n",
    "graph.add_node(\"Router\" , route_question )\n",
    "graph.add_node(\"grader\" , grade_answer )\n",
    "graph.add_node(\"search_online\", search_web)\n",
    "graph.add_node(\"chatbot\", chatbot)\n",
    "\n",
    "# graph.add_edge(\"Turtles_Researcher\" , \"grader\")\n",
    "graph.add_conditional_edges(\n",
    "    \"grader\",\n",
    "    lambda state :state[\"return_answer\"],\n",
    "    {\"yes\":\"chatbot\" , \"no\" : \"search_online\"},\n",
    ")\n",
    "\n",
    "graph.set_entry_point(\"Router\")\n",
    "graph.add_conditional_edges(\n",
    "    \"Router\",\n",
    "    lambda state : state[\"datasource\"],\n",
    "    {\"websearch\" : \"search_online\" , \"vectorstore\" : \"Turtles_Researcher\"}\n",
    ")\n",
    "\n",
    "graph.add_edge(\"Turtles_Researcher\" ,\"grader\" )\n",
    "\n",
    "# graph.add_edge(START , \"Turtles_Researcher\")\n",
    "graph.add_edge(\"chatbot\" , END)\n",
    "\n",
    "agent = graph.compile(checkpointer=memory)"
   ]
  },
  {
   "cell_type": "code",
   "execution_count": 191,
   "metadata": {},
   "outputs": [
    {
     "name": "stdout",
     "output_type": "stream",
     "text": [
      "----Route Question ----\n"
     ]
    },
    {
     "name": "stderr",
     "output_type": "stream",
     "text": [
      "INFO:httpx:HTTP Request: POST http://127.0.0.1:11434/api/chat \"HTTP/1.1 200 OK\"\n"
     ]
    },
    {
     "name": "stdout",
     "output_type": "stream",
     "text": [
      "------Routing to Vectorstore ------\n",
      "----VectorStore Answer----\n"
     ]
    },
    {
     "name": "stderr",
     "output_type": "stream",
     "text": [
      "INFO:httpx:HTTP Request: POST https://api.groq.com/openai/v1/chat/completions \"HTTP/1.1 200 OK\"\n",
      "INFO:httpx:HTTP Request: POST http://127.0.0.1:11434/api/chat \"HTTP/1.1 200 OK\"\n"
     ]
    },
    {
     "name": "stdout",
     "output_type": "stream",
     "text": [
      "Question is : what is the taxa classification of the loggerhead turtle?\n",
      "Answer is : The taxa classification of the loggerhead turtle is as follows: \n",
      "Kingdom: ANIMALIA \n",
      "Phylum: CHORDATA \n",
      "Class: REPTILIA \n",
      "Order: TESTUDINES \n",
      "Family: CHELONIIDAE \n",
      "Genus: Caretta \n",
      "Species: caretta.\n",
      "Grade is : yes\n"
     ]
    },
    {
     "name": "stderr",
     "output_type": "stream",
     "text": [
      "INFO:httpx:HTTP Request: POST https://api.groq.com/openai/v1/chat/completions \"HTTP/1.1 200 OK\"\n"
     ]
    },
    {
     "data": {
      "text/plain": [
       "{'question': 'what is the taxa classification of the loggerhead turtle?',\n",
       " 'answer': 'The taxa classification of the loggerhead turtle is as follows: \\nKingdom: ANIMALIA \\nPhylum: CHORDATA \\nClass: REPTILIA \\nOrder: TESTUDINES \\nFamily: CHELONIIDAE \\nGenus: Caretta \\nSpecies: caretta.',\n",
       " 'messages': [HumanMessage(content='The taxa classification of the loggerhead turtle is as follows: \\nKingdom: ANIMALIA, \\nPhylum: CHORDATA, \\nClass: REPTILIA, \\nOrder: TESTUDINES, \\nFamily: CHELONIIDAE, \\nGenus: Caretta, \\nSpecies: caretta.', additional_kwargs={}, response_metadata={}, id='457c0e57-07ca-42f4-bece-9f46909f7b8d'),\n",
       "  AIMessage(content='', additional_kwargs={'tool_calls': [{'id': 'call_8fav', 'function': {'arguments': '{\"query\": \"Caretta caretta\", \"number_of_photos\": 5}', 'name': 'search_photos'}, 'type': 'function'}]}, response_metadata={'token_usage': {'completion_tokens': 25, 'prompt_tokens': 344, 'total_tokens': 369, 'completion_time': 0.090909091, 'prompt_time': 0.041067575, 'queue_time': 0.051489506, 'total_time': 0.131976666}, 'model_name': 'llama-3.3-70b-versatile', 'system_fingerprint': 'fp_4e32347616', 'finish_reason': 'tool_calls', 'logprobs': None}, id='run-70a3fd49-9523-43e9-a631-263dd1e86cfe-0', tool_calls=[{'name': 'search_photos', 'args': {'query': 'Caretta caretta', 'number_of_photos': 5}, 'id': 'call_8fav', 'type': 'tool_call'}], usage_metadata={'input_tokens': 344, 'output_tokens': 25, 'total_tokens': 369}),\n",
       "  HumanMessage(content='The taxa classification of the loggerhead turtle is as follows: \\nKingdom: ANIMALIA \\nPhylum: CHORDATA \\nClass: REPTILIA \\nOrder: TESTUDINES \\nFamily: CHELONIIDAE \\nGenus: Caretta \\nSpecies: caretta.', additional_kwargs={}, response_metadata={}, id='e3c09848-3af2-4ee4-bdcb-3488151a1383'),\n",
       "  AIMessage(content='', additional_kwargs={'tool_calls': [{'id': 'call_kfcg', 'function': {'arguments': '{\"query\": \"Caretta caretta\", \"number_of_photos\": 3}', 'name': 'search_photos'}, 'type': 'function'}]}, response_metadata={'token_usage': {'completion_tokens': 25, 'prompt_tokens': 438, 'total_tokens': 463, 'completion_time': 0.090909091, 'prompt_time': 0.058259418, 'queue_time': 0.258818907, 'total_time': 0.149168509}, 'model_name': 'llama-3.3-70b-versatile', 'system_fingerprint': 'fp_fcc3b74982', 'finish_reason': 'tool_calls', 'logprobs': None}, id='run-451513d5-c342-415c-88fe-330435f2f1c1-0', tool_calls=[{'name': 'search_photos', 'args': {'query': 'Caretta caretta', 'number_of_photos': 3}, 'id': 'call_kfcg', 'type': 'tool_call'}], usage_metadata={'input_tokens': 438, 'output_tokens': 25, 'total_tokens': 463})],\n",
       " 'datasource': 'vectorstore',\n",
       " 'return_answer': 'yes'}"
      ]
     },
     "execution_count": 191,
     "metadata": {},
     "output_type": "execute_result"
    }
   ],
   "source": [
    "test_chabot = GraphState(question=\"what is the taxa classification of the loggerhead turtle?\")\n",
    "agent.invoke(test_chabot , config= {\"configurable\" : {\"thread_id\" : \"abdo\"}})"
   ]
  },
  {
   "cell_type": "code",
   "execution_count": 176,
   "metadata": {},
   "outputs": [
    {
     "data": {
      "image/png": "[encoded data removed]",
      "text/plain": [
       "<IPython.core.display.Image object>"
      ]
     },
     "metadata": {},
     "output_type": "display_data"
    }
   ],
   "source": [
    "from IPython.display import Image , display\n",
    "try :\n",
    "    display(Image(agent.get_graph().draw_mermaid_png()))\n",
    "except:\n",
    "    pass"
   ]
  },
  {
   "cell_type": "markdown",
   "metadata": {},
   "source": [
    "### Photos Tool"
   ]
  },
  {
   "cell_type": "code",
   "execution_count": 2,
   "metadata": {},
   "outputs": [],
   "source": [
    "import random\n",
    "from langchain.tools import tool\n",
    "\n",
    "def prepare_content(output):\n",
    "    if isinstance(output, dict):\n",
    "        # Serialize dictionary into JSON format\n",
    "        return json.dumps(output, indent=2)\n",
    "    return str(output)\n",
    "\n",
    "\n",
    "def get_taxa_id(query):\n",
    "    base_url = \"https://api.inaturalist.org/v1/taxa\"\n",
    "\n",
    "    params = {\"q\": query}\n",
    "    \n",
    "    response = requests.get(base_url, params=params, timeout=10)\n",
    "    response.raise_for_status()\n",
    "    data = response.json() \n",
    "    \n",
    "    results = data[\"results\"]\n",
    "    if results :\n",
    "        return results[0][\"id\"]\n",
    "\n",
    "    return {\"error\": \"Please provide a valid query\"}\n",
    "\n",
    "\n",
    "@tool\n",
    "def search_photos(query , number_of_photos = 3 , page = 2):\n",
    "    \"\"\"\n",
    "    Any query related to photos you must use this tool\n",
    "\n",
    "    Args:\n",
    "\n",
    "    query : the species name.\n",
    "    number_of_photos :  number of photos to search and return.\n",
    "    \"\"\"\n",
    "    \n",
    "    taxon_id = get_taxa_id(query)\n",
    "\n",
    "    base_url = \"https://api.inaturalist.org/v1/observations\"\n",
    "    \n",
    "    params = {\n",
    "            \"taxon_id\": taxon_id,\n",
    "            \"per_page\": number_of_photos,\n",
    "            \"page\": page,\n",
    "        }\n",
    "    response = requests.get(base_url, params=params)\n",
    "    if response.status_code != 200:\n",
    "        print(\"Please Provide a valid query or species\")\n",
    "        # print(f\"Failed to fetch data for page {page}: {response.status_code}\")\n",
    "\n",
    "    data = response.json()\n",
    "    \n",
    "    results = data.get(\"results\", [])\n",
    "    \n",
    "    if not results:\n",
    "        print(f\"No more results found on page {page}.\")\n",
    "\n",
    "    photos2 = []\n",
    "    for obs in results:\n",
    "        photos = obs.get(\"photos\", [])\n",
    "        for photo in photos:\n",
    "            image_url = photo.get(\"url\")\n",
    "            if image_url:\n",
    "                photos2.append(image_url.replace(\"square\" , \"original\"))\n",
    "\n",
    "    if photos2:\n",
    "        final_photos = random.sample(photos2 , int(number_of_photos))\n",
    "        return prepare_content({\"photos\":final_photos})\n",
    "    \n",
    "\n",
    "    return {\"error\": \"Please provide a valid query\"}\n"
   ]
  },
  {
   "cell_type": "code",
   "execution_count": 8,
   "metadata": {},
   "outputs": [],
   "source": [
    "llm_with_tools = llm.bind_tools([search_photos])"
   ]
  },
  {
   "cell_type": "code",
   "execution_count": 9,
   "metadata": {},
   "outputs": [
    {
     "data": {
      "text/plain": [
       "AIMessage(content='', additional_kwargs={'tool_calls': [{'id': 'call_8176', 'function': {'arguments': '{\"query\": \"loggerhead turtle\", \"number_of_photos\": 2}', 'name': 'search_photos'}, 'type': 'function'}]}, response_metadata={'token_usage': {'completion_tokens': 23, 'prompt_tokens': 288, 'total_tokens': 311, 'completion_time': 0.083636364, 'prompt_time': 0.038537168, 'queue_time': 0.472154087, 'total_time': 0.122173532}, 'model_name': 'llama-3.3-70b-versatile', 'system_fingerprint': 'fp_fcc3b74982', 'finish_reason': 'tool_calls', 'logprobs': None}, id='run-f0a7fe2c-b5ce-439e-a820-c59be396d76c-0', tool_calls=[{'name': 'search_photos', 'args': {'query': 'loggerhead turtle', 'number_of_photos': 2}, 'id': 'call_8176', 'type': 'tool_call'}], usage_metadata={'input_tokens': 288, 'output_tokens': 23, 'total_tokens': 311})"
      ]
     },
     "execution_count": 9,
     "metadata": {},
     "output_type": "execute_result"
    }
   ],
   "source": [
    "llm_with_tools.invoke(\"show me 2 photos for the loggerhead turtle\")"
   ]
  },
  {
   "cell_type": "code",
   "execution_count": null,
   "metadata": {},
   "outputs": [],
   "source": [
    "from typing import Annotated\n",
    "from langchain_groq import ChatGroq\n",
    "from langchain_core.messages import BaseMessage\n",
    "from typing_extensions import TypedDict\n",
    "from langgraph.graph import StateGraph\n",
    "from langgraph.graph.message import add_messages\n",
    "from langgraph.prebuilt import ToolNode, tools_condition\n",
    "from langchain_ollama import ChatOllama\n",
    "import requests\n",
    "from langchain_core.prompts import PromptTemplate\n",
    "\n",
    "llm = ChatGroq(\n",
    "    model=\"llama-3.3-70b-versatile\",\n",
    "    api_key= \"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\",\n",
    "    max_retries=2,\n",
    ")\n",
    "\n",
    "\n",
    "ollama_llm = ChatOllama(model=\"llama3.2:latest\")\n",
    "\n",
    "class State(TypedDict):\n",
    "    messages: Annotated[list, add_messages]\n",
    "    query:str\n",
    "\n",
    "\n",
    "graph_builder = StateGraph(State)\n",
    "\n",
    "\n",
    "\n",
    "tools = [search_photos]\n",
    "llm_with_tools = ollama_llm.bind_tools(tools)\n",
    "\n",
    "\n",
    "def chatbot(state: State):\n",
    "    system_message= PromptTemplate(\n",
    "    template=\"\"\"You are provided with the query of the user and context \n",
    "\n",
    "    QUERY : {query}\n",
    "    CONTEXT :{context}\n",
    "        \n",
    "    \"\"\",\n",
    "    input_variables=[\"query\", \"context\"]  \n",
    "    )\n",
    "\n",
    "    \n",
    "    messages = [\n",
    "        SystemMessage(content=system_message.format(query=state[\"query\"], context=state[\"messages\"])),\n",
    "        HumanMessage(content=state[\"query\"])\n",
    "    ]\n",
    "\n",
    "    # Invoke the LLM with the list of messages\n",
    "    response = llm_with_tools.invoke(messages)\n",
    "    print(response)\n",
    "    \n",
    "    return {\"messages\": [response]}\n",
    "\n",
    "\n",
    "\n",
    "\n",
    "graph_builder.add_node(\"chatbot\", chatbot)\n",
    "\n",
    "tool_node = ToolNode(tools=tools)\n",
    "graph_builder.add_node(\"tools\", tool_node)\n",
    "\n",
    "graph_builder.add_conditional_edges(\n",
    "    \"chatbot\",\n",
    "    tools_condition,\n",
    ")\n",
    "# Any time a tool is called, we return to the chatbot to decide the next step\n",
    "graph_builder.add_edge(\"tools\", \"chatbot\")\n",
    "graph_builder.set_entry_point(\"chatbot\")\n",
    "graph = graph_builder.compile()"
   ]
  },
  {
   "cell_type": "code",
   "execution_count": 47,
   "metadata": {},
   "outputs": [
    {
     "data": {
      "image/png": "[encoded data removed]",
      "text/plain": [
       "<IPython.core.display.Image object>"
      ]
     },
     "metadata": {},
     "output_type": "display_data"
    }
   ],
   "source": [
    "from IPython.display import Image, display\n",
    "\n",
    "try:\n",
    "    display(Image(graph.get_graph().draw_mermaid_png()))\n",
    "except Exception:\n",
    "    # This requires some extra dependencies and is optional\n",
    "    pass"
   ]
  },
  {
   "cell_type": "code",
   "execution_count": 48,
   "metadata": {},
   "outputs": [
    {
     "name": "stdout",
     "output_type": "stream",
     "text": [
      "content='' additional_kwargs={} response_metadata={'model': 'llama3.2:latest', 'created_at': '2025-02-16T10:46:50.964791Z', 'done': True, 'done_reason': 'stop', 'total_duration': 519013100, 'load_duration': 20130600, 'prompt_eval_count': 235, 'prompt_eval_duration': 3000000, 'eval_count': 24, 'eval_duration': 491000000, 'message': Message(role='assistant', content='', images=None, tool_calls=None)} id='run-f9350c8c-26a1-4f65-971e-2d11756c6208-0' tool_calls=[{'name': 'search_photos', 'args': {'number_of_photos': 1, 'query': 'loggerhead turtle'}, 'id': '4ef45796-4045-45c4-96e0-d45ce9bde2ac', 'type': 'tool_call'}] usage_metadata={'input_tokens': 235, 'output_tokens': 24, 'total_tokens': 259}\n"
     ]
    },
    {
     "ename": "GraphRecursionError",
     "evalue": "Recursion limit of 2 reached without hitting a stop condition. You can increase the limit by setting the `recursion_limit` config key.\nFor troubleshooting, visit: https://python.langchain.com/docs/troubleshooting/errors/GRAPH_RECURSION_LIMIT",
     "output_type": "error",
     "traceback": [
      "\u001b[1;31m---------------------------------------------------------------------------\u001b[0m",
      "\u001b[1;31mGraphRecursionError\u001b[0m                       Traceback (most recent call last)",
      "Cell \u001b[1;32mIn[48], line 7\u001b[0m\n\u001b[0;32m      5\u001b[0m initial_message \u001b[38;5;241m=\u001b[39m HumanMessage(content\u001b[38;5;241m=\u001b[39minitial_query) \u001b[38;5;66;03m# Start with a Human Message\u001b[39;00m\n\u001b[0;32m      6\u001b[0m initial_state \u001b[38;5;241m=\u001b[39m State(query\u001b[38;5;241m=\u001b[39minitial_query , messages\u001b[38;5;241m=\u001b[39m[])  \u001b[38;5;66;03m# Initialize with a message!\u001b[39;00m\n\u001b[1;32m----> 7\u001b[0m result \u001b[38;5;241m=\u001b[39m graph\u001b[38;5;241m.\u001b[39minvoke(initial_state , {\u001b[38;5;124m\"\u001b[39m\u001b[38;5;124mrecursion_limit\u001b[39m\u001b[38;5;124m\"\u001b[39m: \u001b[38;5;241m2\u001b[39m})\n",
      "File \u001b[1;32mc:\\Users\\pc\\anaconda3\\envs\\tb\\Lib\\site-packages\\langgraph\\pregel\\__init__.py:1961\u001b[0m, in \u001b[0;36mPregel.invoke\u001b[1;34m(self, input, config, stream_mode, output_keys, interrupt_before, interrupt_after, debug, **kwargs)\u001b[0m\n\u001b[0;32m   1959\u001b[0m \u001b[38;5;28;01melse\u001b[39;00m:\n\u001b[0;32m   1960\u001b[0m     chunks \u001b[38;5;241m=\u001b[39m []\n\u001b[1;32m-> 1961\u001b[0m \u001b[38;5;28;01mfor\u001b[39;00m chunk \u001b[38;5;129;01min\u001b[39;00m \u001b[38;5;28mself\u001b[39m\u001b[38;5;241m.\u001b[39mstream(\n\u001b[0;32m   1962\u001b[0m     \u001b[38;5;28minput\u001b[39m,\n\u001b[0;32m   1963\u001b[0m     config,\n\u001b[0;32m   1964\u001b[0m     stream_mode\u001b[38;5;241m=\u001b[39mstream_mode,\n\u001b[0;32m   1965\u001b[0m     output_keys\u001b[38;5;241m=\u001b[39moutput_keys,\n\u001b[0;32m   1966\u001b[0m     interrupt_before\u001b[38;5;241m=\u001b[39minterrupt_before,\n\u001b[0;32m   1967\u001b[0m     interrupt_after\u001b[38;5;241m=\u001b[39minterrupt_after,\n\u001b[0;32m   1968\u001b[0m     debug\u001b[38;5;241m=\u001b[39mdebug,\n\u001b[0;32m   1969\u001b[0m     \u001b[38;5;241m*\u001b[39m\u001b[38;5;241m*\u001b[39mkwargs,\n\u001b[0;32m   1970\u001b[0m ):\n\u001b[0;32m   1971\u001b[0m     \u001b[38;5;28;01mif\u001b[39;00m stream_mode \u001b[38;5;241m==\u001b[39m \u001b[38;5;124m\"\u001b[39m\u001b[38;5;124mvalues\u001b[39m\u001b[38;5;124m\"\u001b[39m:\n\u001b[0;32m   1972\u001b[0m         latest \u001b[38;5;241m=\u001b[39m chunk\n",
      "File \u001b[1;32mc:\\Users\\pc\\anaconda3\\envs\\tb\\Lib\\site-packages\\langgraph\\pregel\\__init__.py:1690\u001b[0m, in \u001b[0;36mPregel.stream\u001b[1;34m(self, input, config, stream_mode, output_keys, interrupt_before, interrupt_after, debug, subgraphs)\u001b[0m\n\u001b[0;32m   1681\u001b[0m \u001b[38;5;28;01mif\u001b[39;00m loop\u001b[38;5;241m.\u001b[39mstatus \u001b[38;5;241m==\u001b[39m \u001b[38;5;124m\"\u001b[39m\u001b[38;5;124mout_of_steps\u001b[39m\u001b[38;5;124m\"\u001b[39m:\n\u001b[0;32m   1682\u001b[0m     msg \u001b[38;5;241m=\u001b[39m create_error_message(\n\u001b[0;32m   1683\u001b[0m         message\u001b[38;5;241m=\u001b[39m(\n\u001b[0;32m   1684\u001b[0m             \u001b[38;5;124mf\u001b[39m\u001b[38;5;124m\"\u001b[39m\u001b[38;5;124mRecursion limit of \u001b[39m\u001b[38;5;132;01m{\u001b[39;00mconfig[\u001b[38;5;124m'\u001b[39m\u001b[38;5;124mrecursion_limit\u001b[39m\u001b[38;5;124m'\u001b[39m]\u001b[38;5;132;01m}\u001b[39;00m\u001b[38;5;124m reached \u001b[39m\u001b[38;5;124m\"\u001b[39m\n\u001b[1;32m   (...)\u001b[0m\n\u001b[0;32m   1688\u001b[0m         error_code\u001b[38;5;241m=\u001b[39mErrorCode\u001b[38;5;241m.\u001b[39mGRAPH_RECURSION_LIMIT,\n\u001b[0;32m   1689\u001b[0m     )\n\u001b[1;32m-> 1690\u001b[0m     \u001b[38;5;28;01mraise\u001b[39;00m GraphRecursionError(msg)\n\u001b[0;32m   1691\u001b[0m \u001b[38;5;66;03m# set final channel values as run output\u001b[39;00m\n\u001b[0;32m   1692\u001b[0m run_manager\u001b[38;5;241m.\u001b[39mon_chain_end(loop\u001b[38;5;241m.\u001b[39moutput)\n",
      "\u001b[1;31mGraphRecursionError\u001b[0m: Recursion limit of 2 reached without hitting a stop condition. You can increase the limit by setting the `recursion_limit` config key.\nFor troubleshooting, visit: https://python.langchain.com/docs/troubleshooting/errors/GRAPH_RECURSION_LIMIT"
     ]
    }
   ],
   "source": [
    "from langchain_core.messages import HumanMessage, SystemMessage\n",
    "import json\n",
    "\n",
    "initial_query = \"show me 1 photo for the loggerhead turtle\"\n",
    "initial_message = HumanMessage(content=initial_query) # Start with a Human Message\n",
    "initial_state = State(query=initial_query , messages=[])  # Initialize with a message!\n",
    "result = graph.invoke(initial_state , {\"recursion_limit\": 2})"
   ]
  },
  {
   "cell_type": "code",
   "execution_count": 22,
   "metadata": {},
   "outputs": [
    {
     "data": {
      "text/plain": [
       "{'messages': [HumanMessage(content='show me 1 photo for the loggerhead turtle', additional_kwargs={}, response_metadata={}, id='a0d42c06-3308-40f3-8f93-c2559ca7c90a'),\n",
       "  AIMessage(content='', additional_kwargs={}, response_metadata={'model': 'llama3.2:latest', 'created_at': '2025-02-16T09:54:32.636315Z', 'done': True, 'done_reason': 'stop', 'total_duration': 398510500, 'load_duration': 19819100, 'prompt_eval_count': 205, 'prompt_eval_duration': 65000000, 'eval_count': 27, 'eval_duration': 312000000, 'message': Message(role='assistant', content='', images=None, tool_calls=None)}, id='run-8481e159-6e88-4f18-8ee3-f00bc95ebdae-0', tool_calls=[{'name': 'search_photos', 'args': {'number_of_photos': 1, 'query': 'loggerhead turtle'}, 'id': '0dcb49be-10bb-46ea-93fc-cb22daec95d6', 'type': 'tool_call'}], usage_metadata={'input_tokens': 205, 'output_tokens': 27, 'total_tokens': 232}),\n",
       "  ToolMessage(content='{\\n  \"photos\": [\\n    \"https://static.inaturalist.org/photos/470394113/original.jpg\"\\n  ]\\n}', name='search_photos', id='e20fdb3d-3f54-40de-b4bf-f41e9f2757d3', tool_call_id='0dcb49be-10bb-46ea-93fc-cb22daec95d6'),\n",
       "  AIMessage(content='Here is a photo of a loggerhead turtle: https://static.inaturalist.org/photos/470394113/original.jpg', additional_kwargs={}, response_metadata={'model': 'llama3.2:latest', 'created_at': '2025-02-16T09:54:34.4737515Z', 'done': True, 'done_reason': 'stop', 'total_duration': 202566900, 'load_duration': 19600200, 'prompt_eval_count': 127, 'prompt_eval_duration': 8000000, 'eval_count': 25, 'eval_duration': 173000000, 'message': Message(role='assistant', content='Here is a photo of a loggerhead turtle: https://static.inaturalist.org/photos/470394113/original.jpg', images=None, tool_calls=None)}, id='run-cf63eb17-08b0-47ec-8114-a22893925471-0', usage_metadata={'input_tokens': 127, 'output_tokens': 25, 'total_tokens': 152})]}"
      ]
     },
     "execution_count": 22,
     "metadata": {},
     "output_type": "execute_result"
    }
   ],
   "source": [
    "result"
   ]
  },
  {
   "cell_type": "code",
   "execution_count": 20,
   "metadata": {},
   "outputs": [
    {
     "data": {
      "text/plain": [
       "'Here are the requested photos:\\n\\n1. A photo of a loggerhead turtle:\\nUnfortunately, I don\\'t have information on photos of loggerhead turtles to provide.\\n\\nHowever, here is a picture of a loggerhead turtle that you can search for online:\\nhttps://www.google.com/search?q=loggerhead+turtle&tbm=isch\\n\\n2. A photo of the first green turtle:\\nYou can view this photo by searching for \"green turtle\" on an image search engine like Google.\\nhttps://www.google.com/search?q=green+turtle+photo&tbm=isch\\n\\n3. A photo of the second green turtle:\\nSimilar to the previous photo, you can search for \"green turtle\" and browse through the results to find a suitable image.\\nhttps://www.google.com/search?q=green+turtle+photo&tbm=isch'"
      ]
     },
     "execution_count": 20,
     "metadata": {},
     "output_type": "execute_result"
    }
   ],
   "source": [
    "result[\"messages\"][-1].content"
   ]
  },
  {
   "cell_type": "code",
   "execution_count": 87,
   "metadata": {},
   "outputs": [
    {
     "name": "stdout",
     "output_type": "stream",
     "text": [
      "content='' additional_kwargs={} response_metadata={'model': 'llama3.2:latest', 'created_at': '2025-02-16T11:34:09.2519357Z', 'done': True, 'done_reason': 'stop', 'total_duration': 2178798800, 'load_duration': 1102835700, 'prompt_eval_count': 249, 'prompt_eval_duration': 86000000, 'eval_count': 79, 'eval_duration': 552000000, 'message': Message(role='assistant', content='', images=None, tool_calls=None)} id='run-2a7357ca-c282-46f4-a973-816cd02cd5aa-0' tool_calls=[{'name': 'search_photos', 'args': {'number_of_photos': 1, 'page': None, 'query': 'loggerhead turtle'}, 'id': 'efeffc24-b14f-40f5-a6a4-398d08b753aa', 'type': 'tool_call'}, {'name': 'search_photos', 'args': {'number_of_photos': 1, 'page': None, 'query': 'green turtle'}, 'id': 'dc94fb4d-9d32-44d1-b016-9152dcb827d6', 'type': 'tool_call'}] usage_metadata={'input_tokens': 249, 'output_tokens': 79, 'total_tokens': 328}\n"
     ]
    }
   ],
   "source": [
    "test_chatbot = State(query=\"show me 1 photo for the loggerhead turtle and one photo for the green turtle\" , messages=[])\n",
    "response = chatbot(test_chatbot)[\"messages\"][-1]"
   ]
  },
  {
   "cell_type": "code",
   "execution_count": 88,
   "metadata": {},
   "outputs": [],
   "source": [
    "response\n",
    "invokes = tool_node.invoke({\"messages\" : [response]})"
   ]
  },
  {
   "cell_type": "code",
   "execution_count": 89,
   "metadata": {},
   "outputs": [
    {
     "data": {
      "text/plain": [
       "[ToolMessage(content='{\\n  \"photos\": [\\n    \"https://inaturalist-open-data.s3.amazonaws.com/photos/470461355/original.jpeg\"\\n  ]\\n}', name='search_photos', tool_call_id='efeffc24-b14f-40f5-a6a4-398d08b753aa'),\n",
       " ToolMessage(content='{\\n  \"photos\": [\\n    \"https://inaturalist-open-data.s3.amazonaws.com/photos/470452593/original.jpg\"\\n  ]\\n}', name='search_photos', tool_call_id='dc94fb4d-9d32-44d1-b016-9152dcb827d6')]"
      ]
     },
     "execution_count": 89,
     "metadata": {},
     "output_type": "execute_result"
    }
   ],
   "source": [
    "invokes[\"messages\"]"
   ]
  },
  {
   "cell_type": "markdown",
   "metadata": {},
   "source": [
    "## Revising Work"
   ]
  },
  {
   "cell_type": "code",
   "execution_count": 9,
   "metadata": {},
   "outputs": [],
   "source": [
    "from langchain.agents import create_tool_calling_agent , AgentExecutor\n",
    "from langchain.tools.retriever import create_retriever_tool\n",
    "from langchain_ollama import ChatOllama\n",
    "from langchain_community.vectorstores import FAISS\n",
    "from langchain_google_genai import ChatGoogleGenerativeAI , GoogleGenerativeAIEmbeddings\n",
    "from langchain.retrievers import EnsembleRetriever\n",
    "from langchain_core.prompts import ChatPromptTemplate\n",
    "from langchain.tools import Tool , tool , format_tool_to_openai_function\n",
    "from langchain_openai import ChatOpenAI\n",
    "from langchain_core.prompts import ChatPromptTemplate, MessagesPlaceholder\n",
    "from langchain_core.runnables import RunnablePassthrough\n",
    "from langchain_core.runnables.history import RunnableWithMessageHistory\n",
    "from langchain.memory import ChatMessageHistory\n",
    "from langchain_community.tools.tavily_search import TavilySearchResults\n",
    "import requests\n",
    "import json\n",
    "\n",
    "llama = ChatOllama(\n",
    "    model=\"llama3.2\"\n",
    ")\n",
    "\n",
    "deepseek = ChatOpenAI(model=\"MFDoom/deepseek-r1-tool-calling:8b\", api_key=\"ollama\", base_url=\"http://localhost:11434/v1\")\n",
    "qwen = ChatOllama(model=\"qwen2.5\")\n",
    "gemini = ChatGoogleGenerativeAI(model=\"gemini-1.5-pro\")\n",
    "google_embeddings = GoogleGenerativeAIEmbeddings(model=\"models/embedding-001\")\n",
    "vectorstore = FAISS.load_local(\"../FinalEmbeddings/VectorStoreGemini\" , google_embeddings , allow_dangerous_deserialization=True).as_retriever(kwargs={\"k\":5})\n",
    "general_vectorstore_retriever = FAISS.load_local(\"../FinalEmbeddings/GeneralQuestionsEmbeddings/\" , google_embeddings , allow_dangerous_deserialization=True).as_retriever(kwargs={\"k\":3})\n",
    "\n",
    "\n",
    "tavily_tool = TavilySearchResults(k=3)\n",
    "\n",
    "\n",
    "all_retrievers = EnsembleRetriever(\n",
    "    retrievers=[\n",
    "        vectorstore , general_vectorstore_retriever\n",
    "        ],\n",
    "    weights= [0.5 , 0.5])\n",
    "\n",
    "\n",
    "## Returns a list of Documents\n",
    "# print(all_retrievers.invoke(\"what is the taxa classification of the green turtle\"))\n",
    "\n",
    "## Return a list of documents\n",
    "# all_retrievers.get_relevant_documents(\"what is the taxa classification of the green turtle?\")\n",
    "\n",
    "\n",
    "## create retriever tool\n",
    "retriever_tool = create_retriever_tool(retriever=all_retrievers , name=\"Turtles_Researcher\" ,\n",
    "                                        description=\"Searches for information about the turtles , for any questions regarding the turtles you should use this tool! \")\n",
    "\n",
    "## Create a custom retriever tool\n",
    "# def custom_retriever_tool(query:str):\n",
    "    # return all_retrievers.get_relevant_documents(query)\n",
    "\n",
    "# rtool = Tool(\n",
    "#     name=\"Turtles_Researcher\",\n",
    "#     func=custom_retriever_tool,\n",
    "#     description=\"Searches for information about the turtles , for any questions regarding the turtles you should use this tool! \"\n",
    "# )\n",
    "\n",
    "\n",
    "## Testing\n",
    "# retriever_tool.invoke(\"What is the taxa classification of the green turtle\")\n",
    "# rtool.invoke(\"Can i see a turtle laying eggs?\")\n",
    "\n",
    "prompt = ChatPromptTemplate.from_messages([\n",
    "  (\"system\", \"You are a helpful assistant , if you don't find an answer in a tool then you should search online using the search tool , DO NOT ANSWER FROM YOUR OWN KNOWLEDGE\"\n",
    "   \"always respond like you are in a conservation , REMEBER DO NOT USE YOUR OWN KNOWLWDGE\"),\n",
    "  (\"placeholder\", \"{chat_history}\"),\n",
    "  (\"human\", \"{input}\"),\n",
    "  (\"placeholder\", \"{agent_scratchpad}\"),\n",
    "])\n",
    "\n",
    "search_photos_tool = Tool(\n",
    "    name=\"Photos_tool\",\n",
    "    func=search_photos,\n",
    "    description=\"Tool used for photos , any photos queries you must use this tool\"\n",
    ")\n",
    "\n",
    "def search_tool_wrapper(query):\n",
    "    return tavily_tool.invoke(query)\n",
    "\n",
    "search_tool = Tool(name=\"general_search_tool\",\n",
    "                   func=search_tool_wrapper,\n",
    "                   description=\"used for any search queries\")\n",
    "\n",
    "tools = [retriever_tool , search_photos , search_tool]\n",
    "openai_tools = [format_tool_to_openai_function(t) for t in tools]\n",
    "\n",
    "llama_with_tools = llama.bind_tools(openai_tools)\n",
    "deepseek_with_tools = deepseek.bind_tools(openai_tools)\n",
    "\n",
    "agent = create_tool_calling_agent(qwen , tools , prompt)\n",
    "\n",
    "\n",
    "\n",
    "agent_executor = AgentExecutor(agent=agent, tools=tools, verbose=True , return_intermediate_steps=True)\n",
    "\n",
    "# response = agent_executor.invoke(input={\"input\" : \"What is the taxa classification of the green turtle ?\"})\n",
    "\n",
    "\n",
    "# Configuring Memory\n",
    "from langchain_community.chat_message_histories import RedisChatMessageHistory\n",
    "\n",
    "REDIS_URL = \"redis://localhost:6379/0\"\n",
    "def get_message_history(session_id: str) -> RedisChatMessageHistory:\n",
    "    return RedisChatMessageHistory(session_id, url=REDIS_URL)\n",
    "\n",
    "\n",
    "# Summarizing history\n",
    "def summarize_messages(chain_input):\n",
    "    stored_messages = demo_ephemeral_chat_history.messages\n",
    "    if len(stored_messages) == 0:\n",
    "        return False\n",
    "    summarization_prompt = ChatPromptTemplate.from_messages(\n",
    "        [\n",
    "            MessagesPlaceholder(variable_name=\"chat_history\"),\n",
    "            (\n",
    "                \"user\",\n",
    "                \"Distill the above chat messages into a single summary message. Include as many specific details as you can.\",\n",
    "            ),\n",
    "        ]\n",
    "    )\n",
    "    summarization_chain = summarization_prompt | qwen\n",
    "\n",
    "    summary_message = summarization_chain.invoke({\"chat_history\": stored_messages})\n",
    "\n",
    "    demo_ephemeral_chat_history.clear()\n",
    "\n",
    "    demo_ephemeral_chat_history.add_message(summary_message)\n",
    "\n",
    "    return True\n",
    "\n",
    "\n",
    "agent_with_message_history = RunnableWithMessageHistory(\n",
    "    agent_executor,\n",
    "    get_message_history,\n",
    "    input_messages_key=\"input\",\n",
    "    history_messages_key=\"chat_history\",\n",
    ")\n",
    "\n",
    "# agent_with_summarization = (\n",
    "#     RunnablePassthrough.assign(messages_summarized=summarize_messages)\n",
    "#     | agent_with_message_history\n",
    "# )\n",
    "\n"
   ]
  },
  {
   "cell_type": "code",
   "execution_count": null,
   "metadata": {},
   "outputs": [],
   "source": [
    "# {answer , url}\n"
   ]
  },
  {
   "cell_type": "code",
   "execution_count": null,
   "metadata": {},
   "outputs": [],
   "source": []
  },
  {
   "cell_type": "code",
   "execution_count": null,
   "metadata": {},
   "outputs": [
    {
     "name": "stdout",
     "output_type": "stream",
     "text": [
      "\n",
      "\n",
      "\u001b[1m> Entering new AgentExecutor chain...\u001b[0m\n",
      "\u001b[32;1m\u001b[1;3mYour last question was about seeing a photo of a loggerhead turtle. I showed you a photo, but if you would like to see another one or need more information, feel free to ask!\u001b[0m\n",
      "\n",
      "\u001b[1m> Finished chain.\u001b[0m\n"
     ]
    },
    {
     "data": {
      "text/plain": [
       "{'input': 'cWhat was my last question',\n",
       " 'chat_history': [HumanMessage(content='what is the predators of the loggerhead turtle?', additional_kwargs={}, response_metadata={}),\n",
       "  AIMessage(content='Loggerhead turtles have several natural predators, especially during their early life stages:\\n\\n- **Eggs**: Raccoons, coyotes, feral dogs, feral pigs, ghost crabs, and human poaching are major threats to loggerhead turtle eggs.\\n\\n- **Hatchlings on Land**: Vultures, frigate birds, crabs, raccoons, coyotes, and feral dogs prey on hatchlings when they emerge from their nests.\\n\\n- **Hatchlings in Water**: Oceanic fish and sharks target young turtles as they make their way to the ocean. Occasionally, crocodiles might also pose a threat.\\n\\n- **Adults in Water**: Loggerhead adults are mainly threatened by large predatory fish like sharks (e.g., Great White Sharks), killer whales, and fisheries bycatch. On land, adult loggerheads face minimal threats except from human activities.\\n\\nSome specific natural predators of the loggerhead turtle include:\\n\\n- Gray wolves (Canis lupus)\\n- Coluber flagellum (scarlet snake)\\n- Great White Shark (Carcharodon carcharias)\\n\\nThese findings underscore the importance of protecting not only the adult turtles but also their eggs and hatchlings to ensure the survival of this species.', additional_kwargs={}, response_metadata={}),\n",
       "  HumanMessage(content='can you show me a photo for this turtle?', additional_kwargs={}, response_metadata={}),\n",
       "  AIMessage(content='Here is a photo of a loggerhead turtle:\\n\\n![](https://inaturalist-open-data.s3.amazonaws.com/photos/471344861/original.jpeg)', additional_kwargs={}, response_metadata={})],\n",
       " 'output': 'Your last question was about seeing a photo of a loggerhead turtle. I showed you a photo, but if you would like to see another one or need more information, feel free to ask!',\n",
       " 'intermediate_steps': []}"
      ]
     },
     "execution_count": 15,
     "metadata": {},
     "output_type": "execute_result"
    }
   ],
   "source": [
    "agent_with_message_history.invoke({\"input\" : \"What was my last question\"} , config= {\"configurable\" : {\"session_id\" : \"Dr Mohammed\"}})\n"
   ]
  },
  {
   "cell_type": "code",
   "execution_count": 60,
   "metadata": {},
   "outputs": [
    {
     "name": "stdout",
     "output_type": "stream",
     "text": [
      "\n",
      "\n",
      "\u001b[1m> Entering new AgentExecutor chain...\u001b[0m\n",
      "\u001b[32;1m\u001b[1;3m\n",
      "Invoking: `general_search_tool` with `number of perfrontal scales of the green turtle`\n",
      "\n",
      "\n",
      "\u001b[0m\u001b[38;5;200m\u001b[1;3m[{'url': 'http://www.issfguidebooks.org/longline-2-03', 'content': 'Green sea turtles have just two prefrontal scales between their eyes, unlike the other turtles that have 4 or 5 scales. Despite their name, green sea turtles'}, {'url': 'http://www.iacseaturtle.org/eng-docs/tortugas/chelonia.pdf', 'content': 'wide and easily distinguished by having one pair (instead of two pairs like most sea turtles) of prefrontal scales (scales located in front of its eyes).'}, {'url': 'https://www.fws.gov/species/green-sea-turtle-chelonia-mydas', 'content': 'Identifying characteristics include four pairs of costal scutes, none of which borders the nuchal scute, and only one pair of prefrontal scales between the eyes'}, {'url': 'https://www.ecomarbelize.org/anatomy.html', 'content': 'Head. The prefrontal scales are used to identify species of sea turtles. Pictured here is only one pair, indicating this is a green sea turtle.'}, {'url': 'https://aqua.org/stories/2024-03-13-mistaken-identities-loggerhead-vs-green-sea-turtles', 'content': \"If there is a single pair of prefrontal scales, it's a green sea turtle; more than one pair points to a loggerhead.\"}]\u001b[0m\u001b[32;1m\u001b[1;3mThe number of perfrontal scales on a green turtle (Chelonia mydas) is **one pair**. This characteristic helps in identifying the species, as most other sea turtles have two pairs of prefrontal scales.\u001b[0m\n",
      "\n",
      "\u001b[1m> Finished chain.\u001b[0m\n"
     ]
    },
    {
     "data": {
      "text/plain": [
       "{'input': 'use general search tool to Search for the number of perfrontal scales of the green turtle',\n",
       " 'messages_summarized': True,\n",
       " 'chat_history': [AIMessage(content='Lionel Messi has scored over 1,000 goals in his career across all competitions:\\n- Internationally: 112 goals for Argentina.\\n- At Barcelona: 672 goals in 778 appearances.\\n- In the MLS with Inter Miami: 23 goals during the 2024 season.\\n\\nFor more detailed information, you can visit these links:\\n- [International Goals](https://en.wikipedia.org/wiki/List_of_international_goals_scored_by_Lionel_Messi)\\n- [Career Goals at Barcelona](https://www.goal.com/en-us/lists/career-goals-lionel-messi-psg-barcelona-argentina/blt23528ffecf7832b4)\\n\\nRegarding the green turtle (Chelonia mydas):\\n- The number of perfrontal scales on a green turtle is 10. These scales are located above the eye, between the preocular and supraocular scales.\\n\\nFor more specific details about sea turtles, please refer to their classification as multicellular organisms with cathemeral behavior, bilaterally symmetric body shape, ancient ancestry dating back over 100 million years, clutch sizes up to 150 eggs per nest, diets including various algae, hearing ranges from 500 Hz to 100 Hz, and strong navigational abilities.', additional_kwargs={}, response_metadata={'model': 'qwen2.5', 'created_at': '2025-02-19T15:42:57.7321304Z', 'done': True, 'done_reason': 'stop', 'total_duration': 3762487300, 'load_duration': 16753300, 'prompt_eval_count': 537, 'prompt_eval_duration': 234000000, 'eval_count': 283, 'eval_duration': 3498000000, 'message': Message(role='assistant', content='', images=None, tool_calls=None)}, id='run-1c328b07-631c-4c86-949b-829878cedae1-0', usage_metadata={'input_tokens': 537, 'output_tokens': 283, 'total_tokens': 820})],\n",
       " 'output': 'The number of perfrontal scales on a green turtle (Chelonia mydas) is **one pair**. This characteristic helps in identifying the species, as most other sea turtles have two pairs of prefrontal scales.',\n",
       " 'intermediate_steps': [(ToolAgentAction(tool='general_search_tool', tool_input='number of perfrontal scales of the green turtle', log='\\nInvoking: `general_search_tool` with `number of perfrontal scales of the green turtle`\\n\\n\\n', message_log=[AIMessageChunk(content='', additional_kwargs={}, response_metadata={'model': 'qwen2.5', 'created_at': '2025-02-19T15:42:58.3162849Z', 'done': True, 'done_reason': 'stop', 'total_duration': 580633400, 'load_duration': 14013900, 'prompt_eval_count': 664, 'prompt_eval_duration': 142000000, 'eval_count': 32, 'eval_duration': 415000000, 'message': Message(role='assistant', content='', images=None, tool_calls=None)}, id='run-3c9e55dd-7d49-438f-aaf2-ae93c061e158', tool_calls=[{'name': 'general_search_tool', 'args': {'__arg1': 'number of perfrontal scales of the green turtle'}, 'id': 'd0dd6e14-bf7a-44b8-b86f-512943e96cd7', 'type': 'tool_call'}], usage_metadata={'input_tokens': 664, 'output_tokens': 32, 'total_tokens': 696}, tool_call_chunks=[{'name': 'general_search_tool', 'args': '{\"__arg1\": \"number of perfrontal scales of the green turtle\"}', 'id': 'd0dd6e14-bf7a-44b8-b86f-512943e96cd7', 'index': None, 'type': 'tool_call_chunk'}])], tool_call_id='d0dd6e14-bf7a-44b8-b86f-512943e96cd7'),\n",
       "   [{'url': 'http://www.issfguidebooks.org/longline-2-03',\n",
       "     'content': 'Green sea turtles have just two prefrontal scales between their eyes, unlike the other turtles that have 4 or 5 scales. Despite their name, green sea turtles'},\n",
       "    {'url': 'http://www.iacseaturtle.org/eng-docs/tortugas/chelonia.pdf',\n",
       "     'content': 'wide and easily distinguished by having one pair (instead of two pairs like most sea turtles) of prefrontal scales (scales located in front of its eyes).'},\n",
       "    {'url': 'https://www.fws.gov/species/green-sea-turtle-chelonia-mydas',\n",
       "     'content': 'Identifying characteristics include four pairs of costal scutes, none of which borders the nuchal scute, and only one pair of prefrontal scales between the eyes'},\n",
       "    {'url': 'https://www.ecomarbelize.org/anatomy.html',\n",
       "     'content': 'Head. The prefrontal scales are used to identify species of sea turtles. Pictured here is only one pair, indicating this is a green sea turtle.'},\n",
       "    {'url': 'https://aqua.org/stories/2024-03-13-mistaken-identities-loggerhead-vs-green-sea-turtles',\n",
       "     'content': \"If there is a single pair of prefrontal scales, it's a green sea turtle; more than one pair points to a loggerhead.\"}])]}"
      ]
     },
     "execution_count": 60,
     "metadata": {},
     "output_type": "execute_result"
    }
   ],
   "source": [
    "config = {\"configurable\" : {\"session_id\" : \"Raafat\"}}\n",
    "agent_with_summarization.invoke({\"input\" : \"use general search tool to Search for the number of perfrontal scales of the green turtle\"} , \n",
    "                                config= config)"
   ]
  },
  {
   "cell_type": "code",
   "execution_count": 45,
   "metadata": {},
   "outputs": [
    {
     "data": {
      "text/plain": [
       "[AIMessage(content=\"The loggerhead turtle (Caretta caretta) is classified as Vulnerable by the IUCN Red List globally and listed as Appendix I of CITES, which means it receives international protection. It is also protected under national laws in various countries, including:\\n- **United States**: Threatened under the Endangered Species Act.\\n- **Australia**: Endangered under the EPBC Act and Queensland's Nature Conservation Act.\\n\\nKey conservation measures include:\\n- International treaties and agreements to reduce bycatch and habitat destruction.\\n- National laws providing protection, though enforcement can be inconsistent.\\n- Beach protection programs.\\n- Public outreach and awareness campaigns.\\n- Use of Turtle Excluder Devices (TEDs) in shrimp trawling fisheries to reduce accidental capture.\\n\\nThe loggerhead turtle is part of the order Testudines, family Cheloniidae, genus Caretta, and species Caretta caretta. Specific details about its conservation status include:\\n- International protection through treaties like CITES.\\n- National laws such as the U.S. Endangered Species Act and Australia's EPBC Act.\\n- Success factors involving beach protections, public awareness, and the use of TEDs in fisheries.\\n\\nFor further support, actions like reducing plastic use, keeping beaches clean, and supporting conservation programs are encouraged to aid its protection.\", additional_kwargs={}, response_metadata={'model': 'qwen2.5', 'created_at': '2025-02-19T11:34:57.3996001Z', 'done': True, 'done_reason': 'stop', 'total_duration': 3691381000, 'load_duration': 16452100, 'prompt_eval_count': 547, 'prompt_eval_duration': 388000000, 'eval_count': 265, 'eval_duration': 3274000000, 'message': Message(role='assistant', content='', images=None, tool_calls=None)}, id='run-9713a1dd-8335-478d-b2a4-a383b097554d-0', usage_metadata={'input_tokens': 547, 'output_tokens': 265, 'total_tokens': 812}),\n",
       " HumanMessage(content='Can you show me some photos for it?', additional_kwargs={}, response_metadata={}),\n",
       " AIMessage(content='Here are some photos of loggerhead turtles for you:\\n\\n![](https://inaturalist-open-data.s3.amazonaws.com/photos/471100458/original.jpeg)\\n![](https://inaturalist-open-data.s3.amazonaws.com/photos/471075153/original.jpeg)\\n![](https://static.inaturalist.org/photos/471103578/original.jpeg)', additional_kwargs={}, response_metadata={})]"
      ]
     },
     "execution_count": 45,
     "metadata": {},
     "output_type": "execute_result"
    }
   ],
   "source": [
    "demo_ephemeral_chat_history.messages"
   ]
  },
  {
   "cell_type": "code",
   "execution_count": 18,
   "metadata": {},
   "outputs": [
    {
     "data": {
      "text/plain": [
       "{'input': 'What is the taxa classification of the green turtle ?',\n",
       " 'output': 'The taxa classification of the Green Turtle is as follows:\\n\\n1. **Phylum**: Chordata\\n2. **Class**: Reptilia\\n3. **Order**: Cheloniidae\\n4. **Family**: Cheloniidae\\n5. **Genus**: Chelonia\\n6. **Species**: C. mydas (Green Turtle)\\n\\nFor specific scientific classifications or further details, the tool can provide detailed taxonomic information based on your query.',\n",
       " 'intermediate_steps': [(ToolAgentAction(tool='Turtles_Researcher', tool_input={'query': 'green turtle'}, log=\"\\nInvoking: `Turtles_Researcher` with `{'query': 'green turtle'}`\\n\\n\\n\", message_log=[AIMessageChunk(content='', additional_kwargs={'tool_calls': [{'index': 0, 'id': 'call_5pvgiydz', 'function': {'arguments': '{\"query\":\"green turtle\"}', 'name': 'Turtles_Researcher'}, 'type': 'function'}]}, response_metadata={'finish_reason': 'stop', 'model_name': 'MFDoom/deepseek-r1-tool-calling:8b', 'system_fingerprint': 'fp_ollama'}, id='run-f153d96a-fc51-4138-bfea-a11cc4757ba3', tool_calls=[{'name': 'Turtles_Researcher', 'args': {'query': 'green turtle'}, 'id': 'call_5pvgiydz', 'type': 'tool_call'}], tool_call_chunks=[{'name': 'Turtles_Researcher', 'args': '{\"query\":\"green turtle\"}', 'id': 'call_5pvgiydz', 'index': 0, 'type': 'tool_call_chunk'}])], tool_call_id='call_5pvgiydz'),\n",
       "   '{\"Green Turtle\": {\"supplementary_info\": {\"appearance\": \"green turtles are among the largest hard-shelled sea turtles, typically measuring 3 to 4 feet in length and weighing between 300 and 350 pounds. They have small heads relative to their body size, covered in brown scales with light-colored edges. The shell is dark brown, grey, or olive with a lighter, yellow-to-white underside. It features five scutes running down the middle and four scutes on each side, with smooth, non-overlapping plates that change patterns as the turtle ages. Males are generally larger than females and have longer tails that extend well beyond the shell. Notable features include a serrated beak on the lower jaw and two large scales between the eyes. Unlike some turtles, green sea turtles cannot retract their heads into their shells\"}}}\\n\\nThere are seven species of sea turtles: Leatherback, Green, Hawksbill, Loggerhead, Olive Ridley, Kemp’s Ridley, and Flatback.\\n\\n{\"Green Turtle\": {\"scientific_name\": \"Chelonia mydas\", \"possibly_extinct\": false, \"possibly_extinct_in_the_wild\": false}}\\n\\nYou can help by reducing plastic use, keeping beaches clean, supporting conservation programs, and spreading awareness about sea turtle protection.\\n\\n{\"Green Turtle\": {\"supplementary_info\": {\"top_speed\": \"3 km/h\", \"life_span\": \"90 years\", \"summary\": \"The Green sea turtle (Chelonia mydas) is a species of large sea turtle of the family Cheloniidae. The common name of this species refers to the usually green fat found beneath its carapace, not to the color of its carapace, which is olive to black. Like other sea turtles, Green sea turtles migrate long distances between feeding grounds and hatching beaches. Many islands worldwide are known as Turtle Islands due to Green sea turtles nesting on their beaches. Females crawl out on beaches, dig nests, and lay eggs during the night. Later, hatchlings emerge and scramble into the water. Those that reach maturity may live to 90 years in the wild\"}}}\\n\\nMany sea turtles mistake plastic for food, which can lead to injury or death. Reducing plastic waste and recycling can help protect them.\\n\\n{\"Green Turtle\": {\"population\": {\"summary\": \"Green turtles face numerous threats throughout their life stages, including habitat degradation from human activities like beach armoring and sand extraction, light pollution, and coastal development. They are also captured as bycatch in various fishing techniques and are affected by pollution and climate change. The intentional harvest of eggs andadults, which is still legal in some countries, further threatens their populations. Diseases such as Fibropapilloma, linked to habitat degradation, also impact them. Despite these challenges, conservation efforts are ongoing to protect and restore green turtle populations\"}}}\\n\\nIt is important to keep a safe distance and avoid using flashlights or making loud noises. Observing from afar ensures that the turtle is not disturbed.')]}"
      ]
     },
     "execution_count": 18,
     "metadata": {},
     "output_type": "execute_result"
    }
   ],
   "source": [
    "response"
   ]
  },
  {
   "cell_type": "code",
   "execution_count": null,
   "metadata": {},
   "outputs": [],
   "source": []
  },
  {
   "cell_type": "code",
   "execution_count": null,
   "metadata": {},
   "outputs": [],
   "source": []
  },
  {
   "cell_type": "markdown",
   "metadata": {},
   "source": [
    "'{\"Flatback turtle\": {\"nesting_incubation\": {\"nesting\": {\"season\": \"November to January, but can last year-round\", \"clutch_size\": \"Average of 50 eggs per nest\", \"nesting_frequency\": \"Up to 4 times per season, with 13-18 day intervals\", \"egg_size\": \"Approximately 55 mm (2.2 in) in length\", \"hatching_period\": \"December to late March, with peak emergence in February\"}}}}\\n\\nIt is important to keep a safe distance and avoid using flashlights or making loud noises. Observing from afar ensures that the turtle is not disturbed.\\n\\n{\"Hawksbill Turtle\": {\"nesting\": {\"habitat\": {\"key_facts\": {\"nests_per_season\": \"2.5 nests per female\", \"eggs_per_nest\": \"105 eggs per nest on average\"}}}}}\\n\\nIt\\'s best not to touch them. Baby turtles need to make their way to the ocean on their own. If they are in danger (e.g., stuck in debris), contact local wildlife authorities.\\n\\n{\"Flatback turtle\": {\"supplementary_info\": {\"mating_habits\": \"Flatback sea turles breed every two to three years. The nesting season can go from November to January or can last the entire year. Females are able to lay up to 4 times throughout the nesting season, and the intervals between nesting can be 13-18 days. While using her front flippers to dig, the female will clear away the dry sand located at the top. After she clears the sand, the female will create an egg chamber using her back flippers. After she has laid her eggs, she will then cover the nest again using her back flippers, while also tossing sand back with her front flippers. She then returns to the ocean, leaving the eggs untended. The clutch will have an average of 50 eggs that are about 55 mm (2.2 in) long. The sex of the hatchling is determined by the temperature of the sand that the egg is in. If the temperature is below 29 \\\\u00b0C (84 \\\\u00b0F), the hatchling will be a male, and if the temperature is above this 29 \\\\u00b0C it will be female. Baby sea turtles begin to leave their nests during the beginning of December, and the clutches will continue to hatch until late March. The peak of hatchling emergence can be seen during February. The young usually stay close to shore and will feed on the macroplankton present in their surface-dwelling environment. They will reach reproductive maturity and start to breed anywhere between 7-50 years of age.\"}}}\\n\\nMost sea turtles are more active during the day, but at night, they may rest on the ocean floor or under coral reefs. However, nesting females come ashore at night to lay their eggs, as the cooler temperatures and darkness provide better protection from predators.\\n\\n{\"loggerhead turtle\": {\"nesting\": {\"behaviors\": {\"mixed_strategy\": {\"description\": \"Loggerhead turtles do not display a mixed nesting strategy, relying solely on solitary nesting.\"}}, \"habitat\": {\"description\": \"Loggerhead turtles nest on sandy beaches. Hatchlings emerge and migrate to the open ocean, utilizing nearshore and pelagic habitats during different life stages.\", \"key_facts\": {\"nests_per_season\": \"4 to 7 nests per female\", \"eggs_per_nest\": \"100 to 126 eggs per nest\"}}}}}\\n\\nSea turtles lay hundreds of eggs because only a small percentage of hatchlings survive to adulthood. Predation, environmental factors, and human activities reduce their chances of survival, so producing many eggs increases the likelihood that some will reach maturity.'"
   ]
  },
  {
   "cell_type": "code",
   "execution_count": 13,
   "metadata": {},
   "outputs": [],
   "source": [
    "from langchain.schema.runnable import RunnableLambda\n",
    "from langchain.schema.runnable.history import RunnableWithMessageHistory\n",
    "from langchain_community.chat_message_histories import ChatMessageHistory\n",
    "\n",
    "demo_ephemeral_chat_history = ChatMessageHistory()\n",
    "\n",
    "runnable_function = RunnableLambda(get_docs)"
   ]
  },
  {
   "cell_type": "code",
   "execution_count": 14,
   "metadata": {},
   "outputs": [],
   "source": [
    "chain_with_message_history = RunnableWithMessageHistory(\n",
    "    runnable_function,\n",
    "    lambda session_id: demo_ephemeral_chat_history,\n",
    "    input_messages_key=\"input\",\n",
    "    history_messages_key=\"chat_history\",\n",
    ")"
   ]
  },
  {
   "cell_type": "code",
   "execution_count": 22,
   "metadata": {},
   "outputs": [
    {
     "name": "stdout",
     "output_type": "stream",
     "text": [
      "----VectorStore Answer----\n"
     ]
    },
    {
     "name": "stderr",
     "output_type": "stream",
     "text": [
      "Error in RootListenersTracer.on_chain_end callback: KeyError('input')\n"
     ]
    },
    {
     "data": {
      "text/plain": [
       "{'answer': 'You asked me a question but it was not present in our context.'}"
      ]
     },
     "execution_count": 22,
     "metadata": {},
     "output_type": "execute_result"
    }
   ],
   "source": [
    "chain_with_message_history.invoke(GraphState(question=\"What did i just ask you about?\") , config={\"configurable\" : {\"session_id\" :\"abdo\"}})"
   ]
  },
  {
   "cell_type": "code",
   "execution_count": null,
   "metadata": {},
   "outputs": [],
   "source": []
  }
 ],
 "metadata": {
  "kernelspec": {
   "display_name": "tb",
   "language": "python",
   "name": "python3"
  },
  "language_info": {
   "codemirror_mode": {
    "name": "ipython",
    "version": 3
   },
   "file_extension": ".py",
   "mimetype": "text/x-python",
   "name": "python",
   "nbconvert_exporter": "python",
   "pygments_lexer": "ipython3",
   "version": "3.12.7"
  }
 },
 "nbformat": 4,
 "nbformat_minor": 2
}
